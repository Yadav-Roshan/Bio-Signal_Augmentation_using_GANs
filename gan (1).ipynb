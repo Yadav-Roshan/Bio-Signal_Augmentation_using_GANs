{
  "cells": [
    {
      "cell_type": "code",
      "execution_count": 1,
      "metadata": {
        "colab": {
          "base_uri": "https://localhost:8080/"
        },
        "id": "8YX9DgdDHYwB",
        "outputId": "28170f80-48fd-4555-86f2-0be171ba6ed1"
      },
      "outputs": [
        {
          "name": "stdout",
          "output_type": "stream",
          "text": [
            "Requirement already satisfied: mne in c:\\users\\sahil\\appdata\\local\\programs\\python\\python310\\lib\\site-packages (1.4.0)\n",
            "Requirement already satisfied: mne_bids in c:\\users\\sahil\\appdata\\local\\programs\\python\\python310\\lib\\site-packages (0.12)\n",
            "Requirement already satisfied: numpy>=1.15.4 in c:\\users\\sahil\\appdata\\local\\programs\\python\\python310\\lib\\site-packages (from mne) (1.22.3)\n",
            "Requirement already satisfied: scipy>=1.6.3 in c:\\users\\sahil\\appdata\\local\\programs\\python\\python310\\lib\\site-packages (from mne) (1.9.3)\n",
            "Requirement already satisfied: matplotlib in c:\\users\\sahil\\appdata\\local\\programs\\python\\python310\\lib\\site-packages (from mne) (3.5.1)\n",
            "Requirement already satisfied: tqdm in c:\\users\\sahil\\appdata\\local\\programs\\python\\python310\\lib\\site-packages (from mne) (4.64.1)\n",
            "Requirement already satisfied: pooch>=1.5 in c:\\users\\sahil\\appdata\\local\\programs\\python\\python310\\lib\\site-packages (from mne) (1.6.0)\n",
            "Requirement already satisfied: decorator in c:\\users\\sahil\\appdata\\local\\programs\\python\\python310\\lib\\site-packages (from mne) (5.1.1)\n",
            "Requirement already satisfied: packaging in c:\\users\\sahil\\appdata\\local\\programs\\python\\python310\\lib\\site-packages (from mne) (21.3)\n",
            "Requirement already satisfied: jinja2 in c:\\users\\sahil\\appdata\\local\\programs\\python\\python310\\lib\\site-packages (from mne) (3.0.3)\n",
            "Requirement already satisfied: setuptools in c:\\users\\sahil\\appdata\\local\\programs\\python\\python310\\lib\\site-packages (from mne_bids) (67.6.1)\n",
            "Requirement already satisfied: appdirs>=1.3.0 in c:\\users\\sahil\\appdata\\local\\programs\\python\\python310\\lib\\site-packages (from pooch>=1.5->mne) (1.4.4)\n",
            "Requirement already satisfied: requests>=2.19.0 in c:\\users\\sahil\\appdata\\local\\programs\\python\\python310\\lib\\site-packages (from pooch>=1.5->mne) (2.28.2)\n",
            "Requirement already satisfied: pyparsing!=3.0.5,>=2.0.2 in c:\\users\\sahil\\appdata\\local\\programs\\python\\python310\\lib\\site-packages (from packaging->mne) (3.0.7)\n",
            "Requirement already satisfied: MarkupSafe>=2.0 in c:\\users\\sahil\\appdata\\local\\programs\\python\\python310\\lib\\site-packages (from jinja2->mne) (2.1.1)\n",
            "Requirement already satisfied: cycler>=0.10 in c:\\users\\sahil\\appdata\\local\\programs\\python\\python310\\lib\\site-packages (from matplotlib->mne) (0.11.0)\n",
            "Requirement already satisfied: fonttools>=4.22.0 in c:\\users\\sahil\\appdata\\local\\programs\\python\\python310\\lib\\site-packages (from matplotlib->mne) (4.32.0)\n",
            "Requirement already satisfied: kiwisolver>=1.0.1 in c:\\users\\sahil\\appdata\\local\\programs\\python\\python310\\lib\\site-packages (from matplotlib->mne) (1.4.2)\n",
            "Requirement already satisfied: pillow>=6.2.0 in c:\\users\\sahil\\appdata\\local\\programs\\python\\python310\\lib\\site-packages (from matplotlib->mne) (9.1.0)\n",
            "Requirement already satisfied: python-dateutil>=2.7 in c:\\users\\sahil\\appdata\\local\\programs\\python\\python310\\lib\\site-packages (from matplotlib->mne) (2.8.2)\n",
            "Requirement already satisfied: colorama in c:\\users\\sahil\\appdata\\local\\programs\\python\\python310\\lib\\site-packages (from tqdm->mne) (0.4.4)\n",
            "Requirement already satisfied: six>=1.5 in c:\\users\\sahil\\appdata\\local\\programs\\python\\python310\\lib\\site-packages (from python-dateutil>=2.7->matplotlib->mne) (1.16.0)\n",
            "Requirement already satisfied: charset-normalizer<4,>=2 in c:\\users\\sahil\\appdata\\local\\programs\\python\\python310\\lib\\site-packages (from requests>=2.19.0->pooch>=1.5->mne) (2.1.1)\n",
            "Requirement already satisfied: idna<4,>=2.5 in c:\\users\\sahil\\appdata\\local\\programs\\python\\python310\\lib\\site-packages (from requests>=2.19.0->pooch>=1.5->mne) (2.8)\n",
            "Requirement already satisfied: urllib3<1.27,>=1.21.1 in c:\\users\\sahil\\appdata\\local\\programs\\python\\python310\\lib\\site-packages (from requests>=2.19.0->pooch>=1.5->mne) (1.24.3)\n",
            "Requirement already satisfied: certifi>=2017.4.17 in c:\\users\\sahil\\appdata\\local\\programs\\python\\python310\\lib\\site-packages (from requests>=2.19.0->pooch>=1.5->mne) (2022.12.7)\n"
          ]
        }
      ],
      "source": [
        "!pip install mne mne_bids"
      ]
    },
    {
      "cell_type": "code",
      "execution_count": 2,
      "metadata": {
        "id": "q2prwVYSGwMD"
      },
      "outputs": [],
      "source": [
        "import numpy\n",
        "import pandas\n",
        "import matplotlib.pyplot as plt\n",
        "import mne\n",
        "import mne_bids\n",
        "import os\n",
        "import pathlib\n",
        "import numpy as np\n",
        "mne.set_log_level('WARNING')"
      ]
    },
    {
      "cell_type": "code",
      "execution_count": 3,
      "metadata": {
        "id": "ZcT15HrqGwMH"
      },
      "outputs": [],
      "source": [
        "files = os.listdir(r\"Dataset/Dataset\")\n",
        "\n",
        "hc = []\n",
        "for file in files:\n",
        "    if \"hc\" in str(file):\n",
        "        hc.append(file.split(\"-\")[1])\n",
        "\n",
        "\n",
        "pd = []\n",
        "for file in files:\n",
        "    if \"pd\" in str(file):\n",
        "        pd.append(file.split(\"-\")[1])"
      ]
    },
    {
      "cell_type": "code",
      "execution_count": 4,
      "metadata": {
        "id": "jdcSFgWvGwMI"
      },
      "outputs": [],
      "source": [
        "raws_hc = []\n",
        "raws_pd_on = []\n",
        "raws_pd_off = []\n",
        "events_g = []\n",
        "count = 1"
      ]
    },
    {
      "cell_type": "code",
      "execution_count": 5,
      "metadata": {
        "id": "JgImMoMiGwMJ"
      },
      "outputs": [],
      "source": [
        "def loadAndPreprocess(session):\n",
        "    global count\n",
        "    bids_root = pathlib.Path(r'Dataset/Dataset')\n",
        "    bids_path = mne_bids.BIDSPath(subject=session[0],\n",
        "                                    session=session[1],\n",
        "                                    task='rest',\n",
        "\n",
        "                                    datatype='eeg',\n",
        "                                    root=bids_root)\n",
        "    raw = mne_bids.read_raw_bids(bids_path)\n",
        "\n",
        "    # To Start from onset event\n",
        "    tmin = 0\n",
        "    events, event_id = mne.events_from_annotations(raw)\n",
        "    if events.shape[0] == 2 and \"1\" in event_id :\n",
        "        tmin = events[1][0] * 0.001\n",
        "    elif events.shape[0] == 1 and \"1\" in event_id:\n",
        "        tmin = events[0][0] * 0.001\n",
        "    raw.crop(tmin = tmin)\n",
        "\n",
        "    # only 3 miutes for each sample\n",
        "    tmax = 180.\n",
        "    raw.crop(tmax = tmax)\n",
        "\n",
        "    # Excluding EXG Channels\n",
        "    raw.pick_types(eeg=True, exclude=['EXG1', 'EXG2', 'EXG3', 'EXG4', 'EXG5', 'EXG6', 'EXG7', 'EXG8'])\n",
        "\n",
        "    # Filtering\n",
        "    raw.load_data().filter(l_freq = 0.5,h_freq=30)\n",
        "    montage = mne.channels.make_standard_montage('easycap-M1')\n",
        "    raw.set_montage(montage)\n",
        "\n",
        "    #creating Stamps for events\n",
        "    ev = 92160 * count\n",
        "    if (session[1] == 'hc'):\n",
        "        events_g.append([ev , 0 , 0])\n",
        "        raws_hc.append(raw)\n",
        "\n",
        "    elif (session[1] == 'off'):\n",
        "        events_g.append([ev , 0 , 1])\n",
        "        raws_pd_off.append(raw)\n",
        "\n",
        "    else:\n",
        "        events_g.append([ev, 0, 1])\n",
        "        raws_pd_on.append(raw)\n",
        "\n",
        "    count += 1"
      ]
    },
    {
      "cell_type": "code",
      "execution_count": 6,
      "metadata": {
        "colab": {
          "base_uri": "https://localhost:8080/"
        },
        "id": "_3cKDms5GwMK",
        "outputId": "93244967-f489-4bc7-a156-cfe301d1e70e"
      },
      "outputs": [
        {
          "name": "stderr",
          "output_type": "stream",
          "text": [
            "C:\\Users\\Sahil\\AppData\\Local\\Temp\\ipykernel_2388\\4137225282.py:10: RuntimeWarning: The unit for channel(s) Status has changed from NA to V.\n",
            "  raw = mne_bids.read_raw_bids(bids_path)\n",
            "C:\\Users\\Sahil\\AppData\\Local\\Temp\\ipykernel_2388\\4137225282.py:10: RuntimeWarning: The unit for channel(s) Status has changed from NA to V.\n",
            "  raw = mne_bids.read_raw_bids(bids_path)\n",
            "C:\\Users\\Sahil\\AppData\\Local\\Temp\\ipykernel_2388\\4137225282.py:10: RuntimeWarning: The unit for channel(s) Status has changed from NA to V.\n",
            "  raw = mne_bids.read_raw_bids(bids_path)\n",
            "C:\\Users\\Sahil\\AppData\\Local\\Temp\\ipykernel_2388\\4137225282.py:10: RuntimeWarning: The unit for channel(s) Status has changed from NA to V.\n",
            "  raw = mne_bids.read_raw_bids(bids_path)\n",
            "C:\\Users\\Sahil\\AppData\\Local\\Temp\\ipykernel_2388\\4137225282.py:10: RuntimeWarning: The unit for channel(s) Status has changed from NA to V.\n",
            "  raw = mne_bids.read_raw_bids(bids_path)\n",
            "C:\\Users\\Sahil\\AppData\\Local\\Temp\\ipykernel_2388\\4137225282.py:10: RuntimeWarning: The unit for channel(s) Status has changed from NA to V.\n",
            "  raw = mne_bids.read_raw_bids(bids_path)\n",
            "C:\\Users\\Sahil\\AppData\\Local\\Temp\\ipykernel_2388\\4137225282.py:10: RuntimeWarning: The unit for channel(s) Status has changed from NA to V.\n",
            "  raw = mne_bids.read_raw_bids(bids_path)\n",
            "C:\\Users\\Sahil\\AppData\\Local\\Temp\\ipykernel_2388\\4137225282.py:10: RuntimeWarning: The unit for channel(s) Status has changed from NA to V.\n",
            "  raw = mne_bids.read_raw_bids(bids_path)\n",
            "C:\\Users\\Sahil\\AppData\\Local\\Temp\\ipykernel_2388\\4137225282.py:10: RuntimeWarning: The unit for channel(s) Status has changed from NA to V.\n",
            "  raw = mne_bids.read_raw_bids(bids_path)\n",
            "C:\\Users\\Sahil\\AppData\\Local\\Temp\\ipykernel_2388\\4137225282.py:10: RuntimeWarning: The unit for channel(s) Status has changed from NA to V.\n",
            "  raw = mne_bids.read_raw_bids(bids_path)\n",
            "C:\\Users\\Sahil\\AppData\\Local\\Temp\\ipykernel_2388\\4137225282.py:10: RuntimeWarning: The unit for channel(s) Status has changed from NA to V.\n",
            "  raw = mne_bids.read_raw_bids(bids_path)\n",
            "C:\\Users\\Sahil\\AppData\\Local\\Temp\\ipykernel_2388\\4137225282.py:10: RuntimeWarning: The unit for channel(s) Status has changed from NA to V.\n",
            "  raw = mne_bids.read_raw_bids(bids_path)\n",
            "C:\\Users\\Sahil\\AppData\\Local\\Temp\\ipykernel_2388\\4137225282.py:10: RuntimeWarning: The unit for channel(s) Status has changed from NA to V.\n",
            "  raw = mne_bids.read_raw_bids(bids_path)\n",
            "C:\\Users\\Sahil\\AppData\\Local\\Temp\\ipykernel_2388\\4137225282.py:10: RuntimeWarning: The unit for channel(s) Status has changed from NA to V.\n",
            "  raw = mne_bids.read_raw_bids(bids_path)\n",
            "C:\\Users\\Sahil\\AppData\\Local\\Temp\\ipykernel_2388\\4137225282.py:10: RuntimeWarning: The unit for channel(s) Status has changed from NA to V.\n",
            "  raw = mne_bids.read_raw_bids(bids_path)\n",
            "C:\\Users\\Sahil\\AppData\\Local\\Temp\\ipykernel_2388\\4137225282.py:10: RuntimeWarning: The unit for channel(s) Status has changed from NA to V.\n",
            "  raw = mne_bids.read_raw_bids(bids_path)\n",
            "C:\\Users\\Sahil\\AppData\\Local\\Temp\\ipykernel_2388\\4137225282.py:10: RuntimeWarning: The unit for channel(s) Status has changed from NA to V.\n",
            "  raw = mne_bids.read_raw_bids(bids_path)\n",
            "C:\\Users\\Sahil\\AppData\\Local\\Temp\\ipykernel_2388\\4137225282.py:10: RuntimeWarning: The unit for channel(s) Status has changed from NA to V.\n",
            "  raw = mne_bids.read_raw_bids(bids_path)\n",
            "C:\\Users\\Sahil\\AppData\\Local\\Temp\\ipykernel_2388\\4137225282.py:10: RuntimeWarning: The unit for channel(s) Status has changed from NA to V.\n",
            "  raw = mne_bids.read_raw_bids(bids_path)\n",
            "C:\\Users\\Sahil\\AppData\\Local\\Temp\\ipykernel_2388\\4137225282.py:10: RuntimeWarning: The unit for channel(s) Status has changed from NA to V.\n",
            "  raw = mne_bids.read_raw_bids(bids_path)\n",
            "C:\\Users\\Sahil\\AppData\\Local\\Temp\\ipykernel_2388\\4137225282.py:10: RuntimeWarning: The unit for channel(s) Status has changed from NA to V.\n",
            "  raw = mne_bids.read_raw_bids(bids_path)\n",
            "C:\\Users\\Sahil\\AppData\\Local\\Temp\\ipykernel_2388\\4137225282.py:10: RuntimeWarning: The unit for channel(s) Status has changed from NA to V.\n",
            "  raw = mne_bids.read_raw_bids(bids_path)\n",
            "C:\\Users\\Sahil\\AppData\\Local\\Temp\\ipykernel_2388\\4137225282.py:10: RuntimeWarning: The unit for channel(s) Status has changed from NA to V.\n",
            "  raw = mne_bids.read_raw_bids(bids_path)\n",
            "C:\\Users\\Sahil\\AppData\\Local\\Temp\\ipykernel_2388\\4137225282.py:10: RuntimeWarning: The unit for channel(s) Status has changed from NA to V.\n",
            "  raw = mne_bids.read_raw_bids(bids_path)\n",
            "C:\\Users\\Sahil\\AppData\\Local\\Temp\\ipykernel_2388\\4137225282.py:10: RuntimeWarning: The unit for channel(s) Status has changed from NA to V.\n",
            "  raw = mne_bids.read_raw_bids(bids_path)\n",
            "C:\\Users\\Sahil\\AppData\\Local\\Temp\\ipykernel_2388\\4137225282.py:10: RuntimeWarning: The unit for channel(s) Status has changed from NA to V.\n",
            "  raw = mne_bids.read_raw_bids(bids_path)\n",
            "C:\\Users\\Sahil\\AppData\\Local\\Temp\\ipykernel_2388\\4137225282.py:10: RuntimeWarning: The unit for channel(s) Status has changed from NA to V.\n",
            "  raw = mne_bids.read_raw_bids(bids_path)\n",
            "C:\\Users\\Sahil\\AppData\\Local\\Temp\\ipykernel_2388\\4137225282.py:10: RuntimeWarning: The unit for channel(s) Status has changed from NA to V.\n",
            "  raw = mne_bids.read_raw_bids(bids_path)\n",
            "C:\\Users\\Sahil\\AppData\\Local\\Temp\\ipykernel_2388\\4137225282.py:10: RuntimeWarning: The unit for channel(s) Status has changed from NA to V.\n",
            "  raw = mne_bids.read_raw_bids(bids_path)\n",
            "C:\\Users\\Sahil\\AppData\\Local\\Temp\\ipykernel_2388\\4137225282.py:10: RuntimeWarning: The unit for channel(s) Status has changed from NA to V.\n",
            "  raw = mne_bids.read_raw_bids(bids_path)\n",
            "C:\\Users\\Sahil\\AppData\\Local\\Temp\\ipykernel_2388\\4137225282.py:10: RuntimeWarning: The unit for channel(s) Status has changed from NA to V.\n",
            "  raw = mne_bids.read_raw_bids(bids_path)\n",
            "C:\\Users\\Sahil\\AppData\\Local\\Temp\\ipykernel_2388\\4137225282.py:10: RuntimeWarning: The unit for channel(s) Status has changed from NA to V.\n",
            "  raw = mne_bids.read_raw_bids(bids_path)\n",
            "C:\\Users\\Sahil\\AppData\\Local\\Temp\\ipykernel_2388\\4137225282.py:10: RuntimeWarning: The unit for channel(s) Status has changed from NA to V.\n",
            "  raw = mne_bids.read_raw_bids(bids_path)\n",
            "C:\\Users\\Sahil\\AppData\\Local\\Temp\\ipykernel_2388\\4137225282.py:10: RuntimeWarning: The unit for channel(s) Status has changed from NA to V.\n",
            "  raw = mne_bids.read_raw_bids(bids_path)\n",
            "C:\\Users\\Sahil\\AppData\\Local\\Temp\\ipykernel_2388\\4137225282.py:10: RuntimeWarning: The unit for channel(s) Status has changed from NA to V.\n",
            "  raw = mne_bids.read_raw_bids(bids_path)\n",
            "C:\\Users\\Sahil\\AppData\\Local\\Temp\\ipykernel_2388\\4137225282.py:10: RuntimeWarning: The unit for channel(s) Status has changed from NA to V.\n",
            "  raw = mne_bids.read_raw_bids(bids_path)\n",
            "C:\\Users\\Sahil\\AppData\\Local\\Temp\\ipykernel_2388\\4137225282.py:10: RuntimeWarning: The unit for channel(s) Status has changed from NA to V.\n",
            "  raw = mne_bids.read_raw_bids(bids_path)\n",
            "C:\\Users\\Sahil\\AppData\\Local\\Temp\\ipykernel_2388\\4137225282.py:10: RuntimeWarning: The unit for channel(s) Status has changed from NA to V.\n",
            "  raw = mne_bids.read_raw_bids(bids_path)\n",
            "C:\\Users\\Sahil\\AppData\\Local\\Temp\\ipykernel_2388\\4137225282.py:10: RuntimeWarning: The unit for channel(s) Status has changed from NA to V.\n",
            "  raw = mne_bids.read_raw_bids(bids_path)\n",
            "C:\\Users\\Sahil\\AppData\\Local\\Temp\\ipykernel_2388\\4137225282.py:10: RuntimeWarning: The unit for channel(s) Status has changed from NA to V.\n",
            "  raw = mne_bids.read_raw_bids(bids_path)\n",
            "C:\\Users\\Sahil\\AppData\\Local\\Temp\\ipykernel_2388\\4137225282.py:10: RuntimeWarning: The unit for channel(s) Status has changed from NA to V.\n",
            "  raw = mne_bids.read_raw_bids(bids_path)\n",
            "C:\\Users\\Sahil\\AppData\\Local\\Temp\\ipykernel_2388\\4137225282.py:10: RuntimeWarning: The unit for channel(s) Status has changed from NA to V.\n",
            "  raw = mne_bids.read_raw_bids(bids_path)\n",
            "C:\\Users\\Sahil\\AppData\\Local\\Temp\\ipykernel_2388\\4137225282.py:10: RuntimeWarning: The unit for channel(s) Status has changed from NA to V.\n",
            "  raw = mne_bids.read_raw_bids(bids_path)\n",
            "C:\\Users\\Sahil\\AppData\\Local\\Temp\\ipykernel_2388\\4137225282.py:10: RuntimeWarning: The unit for channel(s) Status has changed from NA to V.\n",
            "  raw = mne_bids.read_raw_bids(bids_path)\n",
            "C:\\Users\\Sahil\\AppData\\Local\\Temp\\ipykernel_2388\\4137225282.py:10: RuntimeWarning: The unit for channel(s) Status has changed from NA to V.\n",
            "  raw = mne_bids.read_raw_bids(bids_path)\n",
            "C:\\Users\\Sahil\\AppData\\Local\\Temp\\ipykernel_2388\\4137225282.py:10: RuntimeWarning: The unit for channel(s) Status has changed from NA to V.\n",
            "  raw = mne_bids.read_raw_bids(bids_path)\n"
          ]
        }
      ],
      "source": [
        "for hc0 in hc:\n",
        "    hc_session = (hc0, \"hc\")\n",
        "    loadAndPreprocess(hc_session)\n",
        "\n",
        "for pd0 in pd:\n",
        "    off_session = (pd0, \"off\")\n",
        "    on_session = (pd0, \"on\")\n",
        "    loadAndPreprocess(off_session)\n",
        "    loadAndPreprocess(on_session)"
      ]
    },
    {
      "cell_type": "code",
      "execution_count": 7,
      "metadata": {
        "id": "gYY7evI2GwMM"
      },
      "outputs": [],
      "source": [
        "raws = raws_hc + raws_pd_off + raws_pd_on"
      ]
    },
    {
      "cell_type": "code",
      "execution_count": 8,
      "metadata": {
        "id": "26DDfJwGGwMN"
      },
      "outputs": [],
      "source": [
        "all_data = mne.io.concatenate_raws(raws)"
      ]
    },
    {
      "cell_type": "code",
      "execution_count": 9,
      "metadata": {
        "id": "VQ04XHIvGwMO"
      },
      "outputs": [],
      "source": [
        "event_id = {'hc': 0, 'pd': 1}\n",
        "events = np.array(events_g)"
      ]
    },
    {
      "cell_type": "code",
      "execution_count": 10,
      "metadata": {
        "colab": {
          "base_uri": "https://localhost:8080/",
          "height": 241
        },
        "id": "W1Iou9_6GwMP",
        "outputId": "78658e9a-8e60-4078-8583-22ce03759651"
      },
      "outputs": [
        {
          "name": "stdout",
          "output_type": "stream",
          "text": [
            "Not setting metadata\n",
            "46 matching events found\n",
            "Setting baseline interval to [-176.0, 0.0] s\n",
            "Applying baseline correction (mode: mean)\n",
            "0 projection items activated\n",
            "Using data from preloaded Raw for 46 events and 90113 original time points ...\n",
            "0 bad epochs dropped\n"
          ]
        },
        {
          "data": {
            "text/html": [
              "<table class=\"table table-hover table-striped table-sm table-responsive small\">\n",
              "    <tr>\n",
              "        <th>Number of events</th>\n",
              "        <td>46</td>\n",
              "    </tr>\n",
              "    <tr>\n",
              "        <th>Events</th>\n",
              "        \n",
              "        <td>hc: 16<br/>pd: 30</td>\n",
              "        \n",
              "    </tr>\n",
              "    <tr>\n",
              "        <th>Time range</th>\n",
              "        <td>-176.000 – 0.000 s</td>\n",
              "    </tr>\n",
              "    <tr>\n",
              "        <th>Baseline</th>\n",
              "        <td>-176.000 – 0.000 s</td>\n",
              "    </tr>\n",
              "</table>"
            ],
            "text/plain": [
              "<Epochs |  46 events (all good), -176 – 0 s, baseline -176 – 0 s, ~1012.1 MB, data loaded,\n",
              " 'hc': 16\n",
              " 'pd': 30>"
            ]
          },
          "execution_count": 10,
          "metadata": {},
          "output_type": "execute_result"
        }
      ],
      "source": [
        "tmin = -176\n",
        "tmax = 0\n",
        "baseline = (None, None)\n",
        "\n",
        "epochs = mne.Epochs(all_data,\n",
        "                    events=events,\n",
        "                    event_id=event_id,\n",
        "                    tmin=tmin,\n",
        "                    tmax=tmax,\n",
        "                    baseline=baseline,\n",
        "                    preload=True,\n",
        "                    event_repeated = 'error',\n",
        "                    verbose=True)\n",
        "epochs"
      ]
    },
    {
      "cell_type": "markdown",
      "metadata": {
        "id": "nOpnwI2wGwMQ"
      },
      "source": [
        "### **GAN Implemented Using LSTM**"
      ]
    },
    {
      "cell_type": "code",
      "execution_count": 11,
      "metadata": {
        "id": "bogDS3EBGwMU"
      },
      "outputs": [],
      "source": [
        "real_data = epochs.get_data()\n",
        "real_data_hc = epochs.get_data()[:16]\n",
        "real_data_pd =epochs.get_data()[16:]"
      ]
    },
    {
      "cell_type": "code",
      "execution_count": 12,
      "metadata": {
        "colab": {
          "base_uri": "https://localhost:8080/"
        },
        "id": "fq_hQjdfGwMV",
        "outputId": "d2fa8b1a-b089-457f-c277-e5c250bb46d1"
      },
      "outputs": [
        {
          "data": {
            "text/plain": [
              "(16, 32, 90113)"
            ]
          },
          "execution_count": 12,
          "metadata": {},
          "output_type": "execute_result"
        }
      ],
      "source": [
        "real_data_hc.shape"
      ]
    },
    {
      "cell_type": "code",
      "execution_count": 13,
      "metadata": {
        "colab": {
          "base_uri": "https://localhost:8080/"
        },
        "id": "yAwJIQHkGwMV",
        "outputId": "b1a4df07-7892-4909-cb57-5bcc52d9fa43"
      },
      "outputs": [
        {
          "data": {
            "text/plain": [
              "(30, 32, 90113)"
            ]
          },
          "execution_count": 13,
          "metadata": {},
          "output_type": "execute_result"
        }
      ],
      "source": [
        "real_data_pd.shape"
      ]
    },
    {
      "cell_type": "code",
      "execution_count": 14,
      "metadata": {
        "id": "rPd0HDRhpL09"
      },
      "outputs": [],
      "source": [
        "real_data = np.swapaxes(real_data, 1, 2)\n",
        "real_data_hc = np.swapaxes(real_data_hc, 1, 2)\n",
        "real_data_pd = np.swapaxes(real_data_pd, 1, 2)"
      ]
    },
    {
      "cell_type": "code",
      "execution_count": 15,
      "metadata": {
        "id": "MnuVrdaxGwMV"
      },
      "outputs": [],
      "source": [
        "import numpy as np\n",
        "import tensorflow as tf\n",
        "from tensorflow.keras.layers import Dense, LSTM, Input, Reshape\n",
        "from tensorflow.keras import Sequential\n",
        "from tensorflow.keras.models import Model\n",
        "import os\n",
        "import time\n",
        "from tensorflow.python.ops.numpy_ops import np_config\n",
        "np_config.enable_numpy_behavior()"
      ]
    },
    {
      "cell_type": "code",
      "execution_count": 16,
      "metadata": {
        "id": "7qCyssYAhWEv"
      },
      "outputs": [],
      "source": [
        "def build_generator(latent_dim, output_shape):\n",
        "  model = Sequential()\n",
        "  model.add(Dense(np.product(output_shape), input_shape = (latent_dim,), use_bias = False))\n",
        "\n",
        "  model.add(Reshape(output_shape))\n",
        "  model.add(LSTM(256, return_sequences=False))\n",
        "  model.add(Dense(np.product(output_shape), activation = 'tanh'))\n",
        "  model.add(Reshape(output_shape))\n",
        "  return model\n",
        "\n",
        "def build_discriminator(input_shape):\n",
        "  model = Sequential()\n",
        "  model.add(LSTM(128, return_sequences=True, input_shape = input_shape))\n",
        "  model.add(LSTM(128))\n",
        "  model.add(Dense(1, activation = 'sigmoid'))\n",
        "  return model\n",
        "\n",
        "cross_entropy = tf.keras.losses.BinaryCrossentropy()\n",
        "\n",
        "def discriminator_loss(real_output, fake_output):\n",
        "  real_loss = cross_entropy(tf.ones_like(real_output), real_output)\n",
        "  fake_loss = cross_entropy(tf.zeros_like(fake_output), fake_output)\n",
        "  total_loss= real_loss + fake_loss\n",
        "\n",
        "  return total_loss\n",
        "\n",
        "def generator_loss(fake_output):\n",
        "  return cross_entropy(tf.ones_like(fake_output), fake_output)\n",
        "\n",
        "generator_optimizer = tf.keras.optimizers.Adam(1e-4)\n",
        "discriminator_optimizer = tf.keras.optimizers.Adam(1e-4)\n",
        "\n",
        "# Notice the use of `tf.function`\n",
        "# This annotation causes the function to be \"compiled\".\n",
        "@tf.function\n",
        "\n",
        "def train_step(real_data):\n",
        "  noise = tf.random.normal([BATCH_SIZE, latent_dim])\n",
        "\n",
        "  with tf.GradientTape() as gen_tape, tf.GradientTape() as disc_tape:\n",
        "    generated_data = generator(noise, training = True)\n",
        "\n",
        "    real_output = discriminator(real_data, training = True)\n",
        "    fake_output = discriminator(generated_data, training = True)\n",
        "\n",
        "    gen_loss = generator_loss(fake_output)\n",
        "    disc_loss = discriminator_loss(real_output, fake_output)\n",
        "\n",
        "  gradients_of_generator = gen_tape.gradient(gen_loss, generator.trainable_variables)\n",
        "  gradients_of_discriminator = disc_tape.gradient(disc_loss, discriminator.trainable_variables)\n",
        "\n",
        "  generator_optimizer.apply_gradients(zip(gradients_of_generator, generator.trainable_variables))\n",
        "  discriminator_optimizer.apply_gradients(zip(gradients_of_discriminator, discriminator.trainable_variables))\n",
        "\n",
        "  return gen_loss, disc_loss\n",
        "\n",
        "def train(real_data, epochs):\n",
        "  num_batches = real_data.shape[0] // BATCH_SIZE\n",
        "  for epoch in range(epochs):\n",
        "    avg_gen_loss, avg_disc_loss = 0, 0\n",
        "    start = time.time()\n",
        "\n",
        "    for batch in range(num_batches):\n",
        "      gen_loss, disc_loss = train_step(real_data[batch*BATCH_SIZE:(batch+1)*BATCH_SIZE])\n",
        "      avg_gen_loss+=gen_loss\n",
        "      avg_disc_loss+=disc_loss\n",
        "\n",
        "    # save the model every 25 epochs\n",
        "    if (epoch+1)%25 == 0:\n",
        "      checkpoint.save(file_prefix = checkpoint_prefix)\n",
        "\n",
        "    print(\"Time for epoch {} is {} sec generator_loss: {} and discriminator_loss: {}\".format(epoch+1, time.time()-start, avg_gen_loss/BATCH_SIZE, avg_disc_loss/BATCH_SIZE))"
      ]
    },
    {
      "cell_type": "code",
      "execution_count": 17,
      "metadata": {
        "id": "i8pmWH8USIC0"
      },
      "outputs": [
        {
          "ename": "",
          "evalue": "",
          "output_type": "error",
          "traceback": [
            "\u001b[1;31mCanceled future for execute_request message before replies were done"
          ]
        },
        {
          "ename": "",
          "evalue": "",
          "output_type": "error",
          "traceback": [
            "\u001b[1;31mThe Kernel crashed while executing code in the the current cell or a previous cell. Please review the code in the cell(s) to identify a possible cause of the failure. Click <a href='https://aka.ms/vscodeJupyterKernelCrash'>here</a> for more info. View Jupyter <a href='command:jupyter.viewOutput'>log</a> for further details."
          ]
        }
      ],
      "source": [
        "# Set random seed for reproducibility\n",
        "np.random.seed(42)\n",
        "tf.random.set_seed(42)\n",
        "\n",
        "# Define input shape and latent dimension\n",
        "input_shape = real_data.shape[1:]\n",
        "latent_dim = 100\n",
        "EPOCHS = 100\n",
        "BATCH_SIZE = 4\n",
        "\n",
        "# Build generator and discriminator\n",
        "generator = build_generator(latent_dim, input_shape)\n",
        "discriminator = build_discriminator(input_shape)\n",
        "\n",
        "# Checkpoints\n",
        "checkpoint_dir = './training_checkpoints/pd'\n",
        "checkpoint_prefix = os.path.join(checkpoint_dir, \"ckpt\")\n",
        "checkpoint = tf.train.Checkpoint(generator_optimizer = generator_optimizer, discriminator_optimizer = discriminator_optimizer, generator = generator, discriminator= discriminator)\n",
        "\n",
        "train(real_data_pd, EPOCHS)"
      ]
    },
    {
      "cell_type": "code",
      "execution_count": null,
      "metadata": {
        "colab": {
          "base_uri": "https://localhost:8080/"
        },
        "id": "anfT9ihMSNxx",
        "outputId": "ac324290-c208-466d-8075-99378b0d5e7b"
      },
      "outputs": [
        {
          "name": "stdout",
          "output_type": "stream",
          "text": [
            "1/1 [==============================] - 1s 502ms/step\n"
          ]
        }
      ],
      "source": [
        "# Generate new samples\n",
        "num_generated_samples = 30  # Number of samples to generate\n",
        "noise_pd = np.random.normal(0, 1, (num_generated_samples, latent_dim))\n",
        "generated_samples_pd = generator.predict(noise_pd)"
      ]
    },
    {
      "cell_type": "code",
      "execution_count": null,
      "metadata": {
        "colab": {
          "base_uri": "https://localhost:8080/"
        },
        "id": "LGa0TV5Dnxjr",
        "outputId": "be1f1e6d-5cd6-4e5e-c6f1-92fe1e73f24f"
      },
      "outputs": [
        {
          "data": {
            "text/plain": [
              "(<IPython.core.display.Image object>, <IPython.core.display.Image object>)"
            ]
          },
          "execution_count": 46,
          "metadata": {},
          "output_type": "execute_result"
        }
      ],
      "source": [
        "tf.keras.utils.plot_model(generator, show_shapes=True, dpi=64), tf.keras.utils.plot_model(discriminator, show_shapes=True, dpi=64)"
      ]
    },
    {
      "cell_type": "code",
      "execution_count": null,
      "metadata": {
        "id": "aVUXqWuP7kBB"
      },
      "outputs": [],
      "source": [
        "generator_optimizer_hc = tf.keras.optimizers.Adam(1e-4)\n",
        "discriminator_optimizer_hc = tf.keras.optimizers.Adam(1e-4)\n",
        "\n",
        "@tf.function\n",
        "\n",
        "def train_step_hc(real_data):\n",
        "  noise = tf.random.normal([BATCH_SIZE, latent_dim])\n",
        "  with tf.GradientTape() as gen_tape, tf.GradientTape() as disc_tape:\n",
        "    generated_data = generator_hc(noise, training = True)\n",
        "\n",
        "    real_output = discriminator_hc(real_data, training = True)\n",
        "    fake_output = discriminator_hc(generated_data, training = True)\n",
        "\n",
        "    gen_loss_hc = generator_loss(fake_output)\n",
        "    disc_loss_hc = discriminator_loss(real_output, fake_output)\n",
        "\n",
        "  gradients_of_generator = gen_tape.gradient(gen_loss_hc, generator_hc.trainable_variables)\n",
        "  gradients_of_discriminator = disc_tape.gradient(disc_loss_hc, discriminator_hc.trainable_variables)\n",
        "\n",
        "  generator_optimizer_hc.apply_gradients(zip(gradients_of_generator, generator_hc.trainable_variables))\n",
        "  discriminator_optimizer_hc.apply_gradients(zip(gradients_of_discriminator, discriminator_hc.trainable_variables))\n",
        "\n",
        "  return gen_loss_hc, disc_loss_hc\n",
        "\n",
        "def train_hc(real_data, epochs):\n",
        "  num_batches = real_data.shape[0] // BATCH_SIZE\n",
        "  for epoch in range(epochs):\n",
        "    avg_gen_loss, avg_disc_loss = 0, 0\n",
        "    start = time.time()\n",
        "\n",
        "    for batch in range(num_batches):\n",
        "      gen_loss, disc_loss = train_step_hc(real_data[batch*BATCH_SIZE:(batch+1)*BATCH_SIZE])\n",
        "      avg_gen_loss+=gen_loss\n",
        "      avg_disc_loss+=disc_loss\n",
        "\n",
        "    # save the model every 25 epochs\n",
        "    if (epoch+1)%25 == 0:\n",
        "      checkpoint.save(file_prefix = checkpoint_prefix)\n",
        "\n",
        "    print(\"Time for epoch {} is {} sec generator_loss: {} and discriminator_loss: {}\".format(epoch+1, time.time()-start, avg_gen_loss/BATCH_SIZE, avg_disc_loss/BATCH_SIZE))"
      ]
    },
    {
      "cell_type": "code",
      "execution_count": null,
      "metadata": {
        "id": "1ONa86og89ty"
      },
      "outputs": [],
      "source": [
        "# Set random seed for reproducibility\n",
        "np.random.seed(42)\n",
        "tf.random.set_seed(42)\n",
        "\n",
        "# Define input shape and latent dimension\n",
        "input_shape = real_data.shape[1:]\n",
        "latent_dim = 100\n",
        "EPOCHS = 100\n",
        "BATCH_SIZE = 4\n",
        "\n",
        "# Build generator and discriminator\n",
        "generator_hc = build_generator(latent_dim, input_shape)\n",
        "discriminator_hc = build_discriminator(input_shape)\n",
        "\n",
        "# Checkpoints\n",
        "checkpoint_dir = './training_checkpoints/hc'\n",
        "checkpoint_prefix = os.path.join(checkpoint_dir, \"ckpt\")\n",
        "checkpoint = tf.train.Checkpoint(generator_optimizer = generator_optimizer_hc, discriminator_optimizer = discriminator_optimizer_hc, generator = generator_hc, discriminator= discriminator_hc)\n",
        "\n",
        "train_hc(real_data_hc, EPOCHS)"
      ]
    },
    {
      "cell_type": "code",
      "execution_count": null,
      "metadata": {
        "colab": {
          "base_uri": "https://localhost:8080/"
        },
        "id": "RtMghvzFSr1P",
        "outputId": "9f753d30-8265-42f0-cd87-00829e72d1a0"
      },
      "outputs": [
        {
          "name": "stdout",
          "output_type": "stream",
          "text": [
            "1/1 [==============================] - 1s 638ms/step\n"
          ]
        }
      ],
      "source": [
        "# Generate new samples\n",
        "num_generated_samples = 16  # Number of samples to generate\n",
        "noise_hc = np.random.normal(0, 1, (num_generated_samples, latent_dim))\n",
        "generated_samples_hc = generator_hc.predict(noise_hc)"
      ]
    },
    {
      "cell_type": "code",
      "execution_count": null,
      "metadata": {
        "id": "LyFrglVlBOix"
      },
      "outputs": [],
      "source": [
        "generated_samples_pd = np.swapaxes(generated_samples_pd, 1, 2)\n",
        "generated_samples_hc = np.swapaxes(generated_samples_hc, 1, 2)"
      ]
    },
    {
      "cell_type": "code",
      "execution_count": null,
      "metadata": {
        "id": "2h23kibnvHbO"
      },
      "outputs": [],
      "source": [
        "augmented_signals = np.concatenate((generated_samples_hc, generated_samples_pd), axis = 0)"
      ]
    },
    {
      "cell_type": "markdown",
      "metadata": {
        "id": "g3PXFYyRqvs3"
      },
      "source": [
        "### **Augmentation**"
      ]
    },
    {
      "cell_type": "code",
      "execution_count": null,
      "metadata": {
        "id": "_p_uGxbdGwMX"
      },
      "outputs": [],
      "source": [
        "tmin = -176\n",
        "tmax = 0\n",
        "baseline = (None, None)\n",
        "\n",
        "epochs_gan_1 = mne.Epochs(all_data,\n",
        "                    events=events,\n",
        "                    event_id=event_id,\n",
        "                    tmin=tmin,\n",
        "                    tmax=tmax,\n",
        "                    baseline=baseline,\n",
        "                    preload=True,\n",
        "                    event_repeated = 'error',\n",
        "                    verbose=True)"
      ]
    },
    {
      "cell_type": "code",
      "execution_count": null,
      "metadata": {
        "id": "0oNtKkKiGwMY"
      },
      "outputs": [],
      "source": [
        "for i in range(0, len(epochs_gan_1)):\n",
        "    epochs_gan_1[i]._data = augmented_signals[i]"
      ]
    },
    {
      "cell_type": "code",
      "execution_count": null,
      "metadata": {
        "id": "Hf8jgK9hGwMZ"
      },
      "outputs": [],
      "source": [
        "assert epochs[0]!=epochs_gan_1[0]"
      ]
    },
    {
      "cell_type": "code",
      "execution_count": null,
      "metadata": {
        "id": "5_rI2VjBGwMZ"
      },
      "outputs": [],
      "source": [
        "epochs_final = mne.concatenate_epochs([epochs, epochs_gan_1])"
      ]
    },
    {
      "cell_type": "markdown",
      "metadata": {
        "id": "ET-qG8EYGwMa"
      },
      "source": [
        "### **Feature Extraction**"
      ]
    },
    {
      "cell_type": "code",
      "execution_count": null,
      "metadata": {
        "id": "Lf3_FhIWGwMa"
      },
      "outputs": [],
      "source": [
        "from mne.decoding import CSP\n",
        "from sklearn.preprocessing import LabelEncoder\n",
        "le = LabelEncoder()\n",
        "labels = epochs.events[:, -1]\n",
        "y = le.fit_transform(labels)\n",
        "X = epochs.get_data()\n",
        "\n",
        "# CSP\n",
        "csp = CSP(n_components=20, norm_trace=False)\n",
        "X_out = csp.fit_transform(X,y)"
      ]
    },
    {
      "cell_type": "code",
      "execution_count": null,
      "metadata": {
        "id": "nBejeyPjGwMb"
      },
      "outputs": [],
      "source": [
        "from sklearn.model_selection import train_test_split\n",
        "from sklearn.preprocessing import StandardScaler\n",
        "X = X_out.reshape((X_out.shape[0],-1))\n",
        "scaler = StandardScaler()\n",
        "X = scaler.fit_transform(X)\n",
        "X_train, X_test, y_train, y_test = train_test_split(X, y, test_size=0.25, random_state = 0, stratify = y)"
      ]
    },
    {
      "cell_type": "code",
      "execution_count": null,
      "metadata": {},
      "outputs": [],
      "source": [
        "%matplotlib inline\n",
        "plt.subplot(1,2,1)\n",
        "plt.title(\"Train\")\n",
        "plt.scatter(X_train[:,0],X_train[:,1],c=y_train,cmap='rainbow',alpha=0.7,edgecolors='b')\n",
        "\n",
        "plt.subplot(1,2,2)\n",
        "plt.title(\"Test\")\n",
        "plt.scatter(X_test[:,0],X_test[:,1],c=y_test,cmap='rainbow',alpha=0.7,edgecolors='b')\n",
        "\n",
        "plt.show()"
      ]
    },
    {
      "cell_type": "markdown",
      "metadata": {},
      "source": [
        "### **Classification Model**"
      ]
    },
    {
      "cell_type": "code",
      "execution_count": null,
      "metadata": {},
      "outputs": [],
      "source": [
        "from sklearn.ensemble import RandomForestClassifier\n",
        "from sklearn.model_selection import GridSearchCV\n",
        "from sklearn.metrics import *\n",
        "from sklearn.tree import DecisionTreeClassifier\n",
        "from sklearn.svm import SVC\n",
        "from sklearn.naive_bayes import GaussianNB\n",
        "from sklearn.linear_model import LogisticRegression\n",
        "import pandas as pd\n",
        "import time\n",
        "import seaborn as sns"
      ]
    },
    {
      "cell_type": "markdown",
      "metadata": {},
      "source": [
        "#### GridSearchCV"
      ]
    },
    {
      "cell_type": "code",
      "execution_count": null,
      "metadata": {},
      "outputs": [],
      "source": [
        "def gridsearchCV(estimator,features_,):\n",
        "    gridSearchModel = GridSearchCV(estimator = estimator,\n",
        "                                   param_grid = features_,\n",
        "                                   verbose = 2,\n",
        "                                   cv=4,\n",
        "                                   n_jobs=-1,\n",
        "                                   scoring=\"accuracy\")\n",
        "    return gridSearchModel"
      ]
    },
    {
      "cell_type": "markdown",
      "metadata": {},
      "source": [
        "#### RandomForest Classifier"
      ]
    },
    {
      "cell_type": "code",
      "execution_count": null,
      "metadata": {},
      "outputs": [],
      "source": [
        "def randomForest_():\n",
        "    randomForestmodel = RandomForestClassifier(criterion=\"gini\",\n",
        "                                               random_state=0,\n",
        "                                               n_jobs=-1,\n",
        "                                               oob_score=True)\n",
        "    features = dict(max_depth= [2,3,5,10,20],\n",
        "    min_samples_leaf= [5,10,20,50,100,200],\n",
        "    n_estimators= [10,25,30,50,100,200])\n",
        "    model = gridsearchCV(randomForestmodel,features)\n",
        "    return model "
      ]
    },
    {
      "cell_type": "markdown",
      "metadata": {},
      "source": [
        "#### Logistic Regression"
      ]
    },
    {
      "cell_type": "code",
      "execution_count": null,
      "metadata": {},
      "outputs": [],
      "source": [
        "def logistic():\n",
        "    Logisticmodel = LogisticRegression(max_iter=1000)\n",
        "    features_ = dict(C = [0.001,0.01,0.1,1,10,100],\n",
        "                     solver = ['lbfgs', 'liblinear', 'newton-cg', 'sag', 'saga'])\n",
        "    model = gridsearchCV(Logisticmodel,features_)\n",
        "    return model"
      ]
    },
    {
      "cell_type": "markdown",
      "metadata": {},
      "source": [
        "#### Decision Tree Classifier"
      ]
    },
    {
      "cell_type": "code",
      "execution_count": null,
      "metadata": {},
      "outputs": [],
      "source": [
        "def tree():\n",
        "    # Making prediction with Decision Tree Classifier\n",
        "    dtc = DecisionTreeClassifier(random_state=0)\n",
        "    features_ = dict(criterion = [\"gini\",\"entropy\",\"log_loss\"],\n",
        "                     max_depth= [2,3,5,10,20],\n",
        "                    min_samples_leaf= [5,10,20,50,100,200])\n",
        "    model = gridsearchCV(dtc,features_)\n",
        "    return model"
      ]
    },
    {
      "cell_type": "markdown",
      "metadata": {},
      "source": [
        "#### Support Vector Classifier"
      ]
    },
    {
      "cell_type": "code",
      "execution_count": null,
      "metadata": {},
      "outputs": [],
      "source": [
        "def svm():\n",
        "    svmmodel = SVC(random_state=0)\n",
        "    features_ = dict(C = [0.001,0.01,0.1,1,10,100],\n",
        "                     kernel=['linear', 'poly', 'rbf', 'sigmoid'])\n",
        "    model = gridsearchCV(svmmodel,features_)\n",
        "    return model"
      ]
    },
    {
      "cell_type": "markdown",
      "metadata": {},
      "source": [
        "#### Guassian Nave Baye's"
      ]
    },
    {
      "cell_type": "code",
      "execution_count": null,
      "metadata": {},
      "outputs": [],
      "source": [
        "def naive():\n",
        "    gnb = GaussianNB()\n",
        "    return gnb"
      ]
    },
    {
      "cell_type": "markdown",
      "metadata": {},
      "source": [
        "#### XGBoost"
      ]
    },
    {
      "cell_type": "code",
      "execution_count": null,
      "metadata": {},
      "outputs": [],
      "source": [
        "from xgboost import XGBClassifier\n",
        "def XGB():\n",
        "  params = {\n",
        "        'min_child_weight': [1, 5, 10],\n",
        "        'gamma': [0.5, 1, 1.5, 2, 5],\n",
        "        'subsample': [0.6, 0.8, 1.0],\n",
        "        'colsample_bytree': [0.6, 0.8, 1.0],\n",
        "        'max_depth': [3, 4, 5]\n",
        "        }\n",
        "  xgbmodel = XGBClassifier(n_estimators=10,\n",
        "                        early_stopping_rounds=50,\n",
        "                        max_depth=6,\n",
        "                        booster=\"gbtree\")\n",
        "  model = gridsearchCV(xgbmodel,params)\n",
        "  return model"
      ]
    },
    {
      "cell_type": "markdown",
      "metadata": {},
      "source": [
        "#### Linear Discriminant Analysis"
      ]
    },
    {
      "cell_type": "code",
      "execution_count": null,
      "metadata": {},
      "outputs": [],
      "source": [
        "from sklearn.discriminant_analysis import LinearDiscriminantAnalysis\n",
        "def LDA():\n",
        "    params = {\n",
        "        \"solver\" : [\"svd\", \"lsqr\", \"eigen\"],\n",
        "        \"n_components\" : [1],\n",
        "        \"store_covariance\" : [True, False],\n",
        "        \"tol\" : [0.0001, 0.001, 0.01, 0.1],\n",
        "    }\n",
        "\n",
        "    ldamodel = LinearDiscriminantAnalysis()\n",
        "    model = gridsearchCV(ldamodel,params)\n",
        "    return model"
      ]
    },
    {
      "cell_type": "markdown",
      "metadata": {},
      "source": [
        "#### KNN"
      ]
    },
    {
      "cell_type": "code",
      "execution_count": null,
      "metadata": {},
      "outputs": [],
      "source": [
        "from sklearn.neighbors import KNeighborsClassifier\n",
        "def KNN():\n",
        "    knn = KNeighborsClassifier()\n",
        "    k_range = list(range(1, 31))\n",
        "    param_grid = dict(n_neighbors=k_range)\n",
        "    model = gridsearchCV(knn,param_grid)\n",
        "    return model"
      ]
    },
    {
      "cell_type": "markdown",
      "metadata": {},
      "source": [
        "#### AdaBoost"
      ]
    },
    {
      "cell_type": "code",
      "execution_count": null,
      "metadata": {},
      "outputs": [],
      "source": [
        "from sklearn.ensemble import AdaBoostClassifier\n",
        "def ada():\n",
        "    param_grid = {\"base_estimator__criterion\" : [\"gini\", \"entropy\"],\n",
        "              \"base_estimator__splitter\" :   [\"best\", \"random\"],\n",
        "              \"n_estimators\": [1, 2, 5, 10, 15]\n",
        "             }\n",
        "\n",
        "\n",
        "    DTC = DecisionTreeClassifier(random_state = 0, max_features = \"auto\", class_weight = \"balanced\",max_depth = None)\n",
        "    ABC = AdaBoostClassifier(base_estimator = DTC)\n",
        "    model = gridsearchCV(ABC,param_grid)\n",
        "    return model"
      ]
    },
    {
      "cell_type": "markdown",
      "metadata": {},
      "source": [
        "#### Neural Networks"
      ]
    },
    {
      "cell_type": "code",
      "execution_count": null,
      "metadata": {},
      "outputs": [],
      "source": [
        "from tensorflow.python.keras import Input\n",
        "from tensorflow.python.keras.models import Sequential\n",
        "from tensorflow.python.keras.layers import Dense, Dropout, Conv2D, MaxPooling2D, Flatten\n",
        "def ner():\n",
        "    model = Sequential()\n",
        "    model.add(Input(shape=(X_train.shape[1],)))\n",
        "    model.add(Dense(200, activation='relu'))\n",
        "    model.add(Dropout(rate=0.2))\n",
        "    model.add(Dense(100, activation='relu'))\n",
        "    model.add(Dropout(rate=0.2))\n",
        "    model.compile(optimizer = 'adam',loss='sparse_categorical_crossentropy',metrics =['accuracy'])\n",
        "\n",
        "    return model"
      ]
    },
    {
      "cell_type": "markdown",
      "metadata": {},
      "source": [
        "#### Accuracy and F1 Score"
      ]
    },
    {
      "cell_type": "code",
      "execution_count": null,
      "metadata": {},
      "outputs": [],
      "source": [
        "def analysis(model,X_test,y_test):\n",
        "    return f1_score(y_test,model.predict(X_test)), accuracy_score(y_test,model.predict(X_test))"
      ]
    },
    {
      "cell_type": "markdown",
      "metadata": {},
      "source": [
        "#### ROC and AUC Curve"
      ]
    },
    {
      "cell_type": "code",
      "execution_count": null,
      "metadata": {},
      "outputs": [],
      "source": [
        "def auc_(model,X_test,y_test):\n",
        "    return roc_auc_score(y_test,model.predict(X_test))"
      ]
    },
    {
      "cell_type": "markdown",
      "metadata": {},
      "source": [
        "#### Predictive Models"
      ]
    },
    {
      "cell_type": "code",
      "execution_count": null,
      "metadata": {},
      "outputs": [],
      "source": [
        "# Creating a dataframe for various results\n",
        "result_ = pd.DataFrame(columns=[\"model\",\"f1Score\",\"accuracy\",\"training score\",\"auc\",\"time\"])\n",
        "\n",
        "def result(model,f1_score,accuracy,trainingScore ,auc, time):\n",
        "    \"\"\"This function creates a dataframe of all the information\"\"\"\n",
        "    result_.loc[len(result_.index)] = [model,f1_score,accuracy,trainingScore,auc,time]"
      ]
    },
    {
      "cell_type": "code",
      "execution_count": null,
      "metadata": {},
      "outputs": [],
      "source": [
        "def predictiveModels():\n",
        "        \"\"\"t0 and t1 are for capturing the training time\"\"\"\n",
        "# LOGISTIC REGRESSION\n",
        "        t0 = time.time()\n",
        "        logisticModel = logistic().fit(X_train,y_train) # Calling the logistic function to return logistic model\n",
        "        t1 = time.time()-t0\n",
        "        print(f\"➡️Best model params for Logistic Regression --> {logisticModel.best_params_}\")\n",
        "        # trs_L = Training score for logistic regression \n",
        "        trs_L = logisticModel.score(X_train,y_train)\n",
        "        f1_score_logistic, accuracy_logistic = analysis(logisticModel,X_test,y_test)\n",
        "        acu_Logistic = auc_(logisticModel,X_test,y_test)\n",
        "        result(\"LogisticRegression\",f1_score_logistic,accuracy_logistic,trs_L,acu_Logistic,t1) # Creating a dataframe for the model\n",
        "        \n",
        "# DECISION TREE\n",
        "        t0 = time.time()\n",
        "        treeModel = tree().fit(X_train,y_train)\n",
        "        t1 = time.time()-t0\n",
        "\n",
        "        print(f\"➡️Best model params for Decision Tree --> {treeModel.best_params_}\")\n",
        "        trs_T = treeModel.score(X_train,y_train)\n",
        "        f1_score_tree, accuracy_tree = analysis(treeModel,X_test,y_test)\n",
        "        acu_decision_tree = auc_(treeModel,X_test,y_test)\n",
        "        result(\"Decison Tree\",f1_score_tree,accuracy_tree,trs_T,f1_score_tree,t1)\n",
        "\n",
        "# SUPPORT VECTOR MACHINE\n",
        "        t0 = time.time()\n",
        "\n",
        "        svmModel = svm().fit(X_train,y_train)\n",
        "        t1 = time.time()-t0\n",
        "\n",
        "        print(f\"➡️Best model params for Support Vector Machines --> {svmModel.best_params_}\")\n",
        "        trs_S = svmModel.score(X_train,y_train)\n",
        "        f1_score_svm, accuracy_svm = analysis(svmModel,X_test,y_test)\n",
        "        acu_svm = auc_(svmModel,X_test,y_test)\n",
        "        result(\"SVM\",f1_score_svm,accuracy_svm, trs_S,acu_svm,t1) # Creating a dataframe for the model\n",
        "\n",
        "#RANDOM FOREST\n",
        "        t0 = time.time()\n",
        "\n",
        "        randomForestModel = randomForest_().fit(X_train,y_train)\n",
        "        t1 = time.time()-t0\n",
        "\n",
        "        print(f\"➡️Best model params for Random Forest Classifier --> {randomForestModel.best_params_}\")\n",
        "        trs_R = randomForestModel.score(X_train,y_train)\n",
        "        f1_score_random, accuracy_random = analysis(randomForestModel,X_test,y_test)\n",
        "        acu_random_forest = auc_(randomForestModel,X_test,y_test)\n",
        "        result(\"Random Forest\",f1_score_random,accuracy_random,trs_R,acu_random_forest,t1)\n",
        "\n",
        "#NAIVE BAYES\n",
        "        t0 = time.time()\n",
        "\n",
        "        naiveModel = naive().fit(X_train,y_train)\n",
        "        t1 = time.time()-t0\n",
        "\n",
        "        trs_N = naiveModel.score(X_train,y_train)\n",
        "        f1_score_naive, accuracy_naive = analysis(naiveModel,X_test,y_test)\n",
        "        acu_naive = auc_(naiveModel,X_test,y_test)\n",
        "        result(\"Naive Bayes\",f1_score_naive,accuracy_naive,trs_N,acu_naive,t1)\n",
        "\n",
        "#XGBOOST\n",
        "        t0 = time.time()\n",
        "\n",
        "        xgbModel = XGB().fit(X_train,y_train, eval_set=[(X_train,y_train),(X_test,y_test)], verbose=10)\n",
        "        t1 = time.time()-t0\n",
        "\n",
        "        print(f\"➡️Best model params for XGBoost --> {xgbModel.best_params_}\")\n",
        "        trs_X = xgbModel.score(X_train,y_train)\n",
        "        f1_score_xgb, accuracy_xgb = analysis(xgbModel,X_test,y_test)\n",
        "        acu_xgb = auc_(xgbModel,X_test,y_test)\n",
        "        result(\"XGBoost\",f1_score_xgb,accuracy_xgb,trs_X,acu_xgb,t1)\n",
        "\n",
        "#LDA\n",
        "        t0 = time.time()\n",
        "        ldaModel = LDA().fit(X_train,y_train)\n",
        "        t1 = time.time()-t0\n",
        "\n",
        "        print(f\"➡️Best model params for LDA --> {ldaModel.best_params_}\")\n",
        "        trs_LDA = ldaModel.score(X_train,y_train)\n",
        "        f1_score_lda, accuracy_lda = analysis(ldaModel,X_test,y_test)\n",
        "        acu_lda = auc_(ldaModel,X_test,y_test)\n",
        "        result(\"LDA\",f1_score_lda,accuracy_lda,trs_LDA,acu_lda,t1)\n",
        "\n",
        "#KNN\n",
        "        t0 = time.time()\n",
        "        knnModel = KNN().fit(X_train,y_train)\n",
        "        t1 = time.time()-t0\n",
        "\n",
        "        print(f\"➡️Best model params for KNN --> {knnModel.best_params_}\")\n",
        "        trs_KNN = knnModel.score(X_train,y_train)\n",
        "        f1_score_knn, accuracy_knn = analysis(knnModel,X_test,y_test)\n",
        "        acu_knn = auc_(knnModel,X_test,y_test)\n",
        "        result(\"KNN\",f1_score_knn,accuracy_knn,trs_KNN,acu_knn,t1)\n",
        "\n",
        "#ADABOOST\n",
        "        t0 = time.time()\n",
        "        adaModel = ada().fit(X_train,y_train)\n",
        "        t1 = time.time()-t0\n",
        "        \n",
        "        print(f\"➡️Best model params for AdaBoost --> {adaModel.best_params_}\")\n",
        "        trs_ADA = adaModel.score(X_train,y_train)\n",
        "        f1_score_ada, accuracy_ada = analysis(adaModel,X_test,y_test)\n",
        "        acu_ada = auc_(adaModel,X_test,y_test)\n",
        "        result(\"AdaBoost\",f1_score_ada,accuracy_ada,trs_ADA,acu_ada,t1)\n",
        "\n",
        "#NEURALNETWORK\n",
        "        t0 = time.time()\n",
        "        neuModel = ner()\n",
        "        history = neuModel.fit(X_train, y_train, epochs = 100, validation_data = (X_test, y_test))\n",
        "        t1 = time.time() - t0\n",
        "\n",
        "        trs_neu = accuracy_score(y_train, neuModel.predict_classes(X_train, verbose=0))\n",
        "        f1_score_neu, accuracy_neu = f1_score(y_test, neuModel.predict_classes(X_test, verbose=0)), accuracy_score(y_test, neuModel.predict_classes(X_test, verbose=0))\n",
        "        acu_neu = roc_auc_score(y_test, neuModel.predict_classes(X_test, verbose=0))\n",
        "        result(\"Neural Netwrok\",f1_score_neu,accuracy_neu,trs_neu,acu_neu,t1)"
      ]
    },
    {
      "cell_type": "code",
      "execution_count": null,
      "metadata": {},
      "outputs": [
        {
          "name": "stdout",
          "output_type": "stream",
          "text": [
            "Fitting 4 folds for each of 30 candidates, totalling 120 fits\n",
            "➡️Best model params for Logistic Regression --> {'C': 0.001, 'solver': 'lbfgs'}\n",
            "Fitting 4 folds for each of 90 candidates, totalling 360 fits\n",
            "➡️Best model params for Decision Tree --> {'criterion': 'gini', 'max_depth': 2, 'min_samples_leaf': 20}\n",
            "Fitting 4 folds for each of 24 candidates, totalling 96 fits\n",
            "➡️Best model params for Support Vector Machines --> {'C': 0.001, 'kernel': 'linear'}\n",
            "Fitting 4 folds for each of 180 candidates, totalling 720 fits\n",
            "➡️Best model params for Random Forest Classifier --> {'max_depth': 2, 'min_samples_leaf': 10, 'n_estimators': 10}\n",
            "Fitting 4 folds for each of 405 candidates, totalling 1620 fits\n",
            "[0]\tvalidation_0-logloss:0.67552\tvalidation_1-logloss:0.67286\n",
            "[9]\tvalidation_0-logloss:0.64926\tvalidation_1-logloss:0.63757\n",
            "➡️Best model params for XGBoost --> {'colsample_bytree': 0.6, 'gamma': 0.5, 'max_depth': 3, 'min_child_weight': 5, 'subsample': 0.8}\n",
            "Fitting 4 folds for each of 24 candidates, totalling 96 fits\n",
            "➡️Best model params for LDA --> {'n_components': 1, 'solver': 'svd', 'store_covariance': True, 'tol': 0.1}\n",
            "Fitting 4 folds for each of 30 candidates, totalling 120 fits\n"
          ]
        },
        {
          "name": "stderr",
          "output_type": "stream",
          "text": [
            "c:\\Users\\Sahil\\AppData\\Local\\Programs\\Python\\Python310\\lib\\site-packages\\sklearn\\model_selection\\_search.py:953: UserWarning: One or more of the test scores are non-finite: [0.47222222 0.5        0.59027778 0.50694444 0.62152778 0.5625\n",
            " 0.64583333 0.59027778 0.64583333 0.58680556 0.64583333 0.61805556\n",
            " 0.64583333 0.64583333 0.64583333 0.64583333 0.64583333 0.64583333\n",
            " 0.64583333 0.64583333 0.64583333 0.64583333 0.64583333 0.64583333\n",
            " 0.64583333        nan        nan        nan        nan        nan]\n",
            "  warnings.warn(\n"
          ]
        },
        {
          "name": "stdout",
          "output_type": "stream",
          "text": [
            "➡️Best model params for KNN --> {'n_neighbors': 7}\n",
            "Fitting 4 folds for each of 20 candidates, totalling 80 fits\n",
            "➡️Best model params for AdaBoost --> {'base_estimator__criterion': 'gini', 'base_estimator__splitter': 'best', 'n_estimators': 2}\n",
            "WARNING:tensorflow:Please add `keras.layers.InputLayer` instead of `keras.Input` to Sequential model. `keras.Input` is intended to be used by Functional model.\n",
            "Epoch 1/100\n",
            "2/2 [==============================] - 1s 237ms/step - loss: 12.6262 - accuracy: 0.0000e+00 - val_loss: 10.0751 - val_accuracy: 0.0000e+00\n",
            "Epoch 2/100\n",
            "2/2 [==============================] - 0s 164ms/step - loss: 9.7527 - accuracy: 0.0000e+00 - val_loss: 6.5727 - val_accuracy: 0.0000e+00\n",
            "Epoch 3/100\n",
            "2/2 [==============================] - 0s 45ms/step - loss: 9.4346 - accuracy: 0.0294 - val_loss: 4.8524 - val_accuracy: 0.0000e+00\n",
            "Epoch 4/100\n",
            "2/2 [==============================] - 0s 40ms/step - loss: 7.4248 - accuracy: 0.0882 - val_loss: 3.2443 - val_accuracy: 0.0000e+00\n",
            "Epoch 5/100\n",
            "2/2 [==============================] - 0s 61ms/step - loss: 7.3880 - accuracy: 0.1765 - val_loss: 2.7603 - val_accuracy: 0.0000e+00\n",
            "Epoch 6/100\n",
            "2/2 [==============================] - 0s 38ms/step - loss: 7.7548 - accuracy: 0.2353 - val_loss: 2.3731 - val_accuracy: 0.2500\n",
            "Epoch 7/100\n",
            "2/2 [==============================] - 0s 42ms/step - loss: 7.6144 - accuracy: 0.2647 - val_loss: 2.0459 - val_accuracy: 0.3333\n",
            "Epoch 8/100\n",
            "2/2 [==============================] - 0s 41ms/step - loss: 5.5498 - accuracy: 0.4706 - val_loss: 1.7644 - val_accuracy: 0.5000\n",
            "Epoch 9/100\n",
            "2/2 [==============================] - 0s 41ms/step - loss: 6.6386 - accuracy: 0.3824 - val_loss: 1.5291 - val_accuracy: 0.5000\n",
            "Epoch 10/100\n",
            "2/2 [==============================] - 0s 39ms/step - loss: 6.7361 - accuracy: 0.4412 - val_loss: 1.3309 - val_accuracy: 0.5000\n",
            "Epoch 11/100\n",
            "2/2 [==============================] - 0s 40ms/step - loss: 6.4797 - accuracy: 0.4412 - val_loss: 1.1653 - val_accuracy: 0.5000\n",
            "Epoch 12/100\n",
            "2/2 [==============================] - 0s 41ms/step - loss: 6.4027 - accuracy: 0.5294 - val_loss: 1.0430 - val_accuracy: 0.5000\n",
            "Epoch 13/100\n",
            "2/2 [==============================] - 0s 40ms/step - loss: 4.5606 - accuracy: 0.6176 - val_loss: 0.9428 - val_accuracy: 0.5000\n",
            "Epoch 14/100\n",
            "2/2 [==============================] - 0s 38ms/step - loss: 4.3231 - accuracy: 0.6471 - val_loss: 0.8747 - val_accuracy: 0.6667\n",
            "Epoch 15/100\n",
            "2/2 [==============================] - 0s 40ms/step - loss: 4.6565 - accuracy: 0.6471 - val_loss: 0.8398 - val_accuracy: 0.6667\n",
            "Epoch 16/100\n",
            "2/2 [==============================] - 0s 40ms/step - loss: 4.5918 - accuracy: 0.5882 - val_loss: 0.8831 - val_accuracy: 0.6667\n",
            "Epoch 17/100\n",
            "2/2 [==============================] - 0s 38ms/step - loss: 4.4036 - accuracy: 0.5882 - val_loss: 1.8073 - val_accuracy: 0.6667\n",
            "Epoch 18/100\n",
            "2/2 [==============================] - 0s 42ms/step - loss: 3.6848 - accuracy: 0.5882 - val_loss: 1.7940 - val_accuracy: 0.5833\n",
            "Epoch 19/100\n",
            "2/2 [==============================] - 0s 41ms/step - loss: 4.8761 - accuracy: 0.5882 - val_loss: 1.7853 - val_accuracy: 0.5833\n",
            "Epoch 20/100\n",
            "2/2 [==============================] - 0s 41ms/step - loss: 4.0404 - accuracy: 0.5882 - val_loss: 1.7744 - val_accuracy: 0.5833\n",
            "Epoch 21/100\n",
            "2/2 [==============================] - 0s 41ms/step - loss: 3.3312 - accuracy: 0.6471 - val_loss: 1.7649 - val_accuracy: 0.5833\n",
            "Epoch 22/100\n",
            "2/2 [==============================] - 0s 38ms/step - loss: 4.3932 - accuracy: 0.6471 - val_loss: 1.7545 - val_accuracy: 0.5833\n",
            "Epoch 23/100\n",
            "2/2 [==============================] - 0s 38ms/step - loss: 3.2498 - accuracy: 0.6471 - val_loss: 1.7601 - val_accuracy: 0.5833\n",
            "Epoch 24/100\n",
            "2/2 [==============================] - 0s 38ms/step - loss: 3.3186 - accuracy: 0.6471 - val_loss: 1.7707 - val_accuracy: 0.5833\n",
            "Epoch 25/100\n",
            "2/2 [==============================] - 0s 39ms/step - loss: 4.3840 - accuracy: 0.6471 - val_loss: 1.7804 - val_accuracy: 0.5833\n",
            "Epoch 26/100\n",
            "2/2 [==============================] - 0s 45ms/step - loss: 4.0111 - accuracy: 0.6176 - val_loss: 1.7885 - val_accuracy: 0.5833\n",
            "Epoch 27/100\n",
            "2/2 [==============================] - 0s 39ms/step - loss: 4.4807 - accuracy: 0.5588 - val_loss: 0.9022 - val_accuracy: 0.5833\n",
            "Epoch 28/100\n",
            "2/2 [==============================] - 0s 36ms/step - loss: 3.5719 - accuracy: 0.7059 - val_loss: 0.8939 - val_accuracy: 0.5833\n",
            "Epoch 29/100\n",
            "2/2 [==============================] - 0s 38ms/step - loss: 3.4752 - accuracy: 0.5882 - val_loss: 1.8038 - val_accuracy: 0.5833\n",
            "Epoch 30/100\n",
            "2/2 [==============================] - 0s 39ms/step - loss: 4.7701 - accuracy: 0.5000 - val_loss: 1.8051 - val_accuracy: 0.5833\n",
            "Epoch 31/100\n",
            "2/2 [==============================] - 0s 40ms/step - loss: 4.4482 - accuracy: 0.6176 - val_loss: 1.8123 - val_accuracy: 0.5833\n",
            "Epoch 32/100\n",
            "2/2 [==============================] - 0s 37ms/step - loss: 4.7657 - accuracy: 0.5000 - val_loss: 1.8227 - val_accuracy: 0.5833\n",
            "Epoch 33/100\n",
            "2/2 [==============================] - 0s 42ms/step - loss: 3.9843 - accuracy: 0.5294 - val_loss: 1.8424 - val_accuracy: 0.6667\n",
            "Epoch 34/100\n",
            "2/2 [==============================] - 0s 39ms/step - loss: 3.3667 - accuracy: 0.7353 - val_loss: 1.8399 - val_accuracy: 0.6667\n",
            "Epoch 35/100\n",
            "2/2 [==============================] - 0s 38ms/step - loss: 2.3056 - accuracy: 0.7353 - val_loss: 1.8409 - val_accuracy: 0.6667\n",
            "Epoch 36/100\n",
            "2/2 [==============================] - 0s 41ms/step - loss: 2.6472 - accuracy: 0.6765 - val_loss: 1.8421 - val_accuracy: 0.6667\n",
            "Epoch 37/100\n",
            "2/2 [==============================] - 0s 40ms/step - loss: 2.3908 - accuracy: 0.6765 - val_loss: 1.8444 - val_accuracy: 0.6667\n",
            "Epoch 38/100\n",
            "2/2 [==============================] - 0s 39ms/step - loss: 1.9029 - accuracy: 0.6765 - val_loss: 1.8538 - val_accuracy: 0.6667\n",
            "Epoch 39/100\n",
            "2/2 [==============================] - 0s 40ms/step - loss: 2.3117 - accuracy: 0.6765 - val_loss: 1.8687 - val_accuracy: 0.6667\n",
            "Epoch 40/100\n",
            "2/2 [==============================] - 0s 36ms/step - loss: 2.3816 - accuracy: 0.6176 - val_loss: 1.8820 - val_accuracy: 0.6667\n",
            "Epoch 41/100\n",
            "2/2 [==============================] - 0s 67ms/step - loss: 1.8258 - accuracy: 0.5882 - val_loss: 1.8877 - val_accuracy: 0.6667\n",
            "Epoch 42/100\n",
            "2/2 [==============================] - 0s 41ms/step - loss: 2.4604 - accuracy: 0.6176 - val_loss: 1.8870 - val_accuracy: 0.6667\n",
            "Epoch 43/100\n",
            "2/2 [==============================] - 0s 49ms/step - loss: 3.0844 - accuracy: 0.5588 - val_loss: 1.8708 - val_accuracy: 0.5833\n",
            "Epoch 44/100\n",
            "2/2 [==============================] - 0s 39ms/step - loss: 2.1378 - accuracy: 0.7059 - val_loss: 1.8651 - val_accuracy: 0.5833\n",
            "Epoch 45/100\n",
            "2/2 [==============================] - 0s 35ms/step - loss: 2.4020 - accuracy: 0.6176 - val_loss: 1.8661 - val_accuracy: 0.5833\n",
            "Epoch 46/100\n",
            "2/2 [==============================] - 0s 35ms/step - loss: 4.3494 - accuracy: 0.5294 - val_loss: 1.8731 - val_accuracy: 0.5833\n",
            "Epoch 47/100\n",
            "2/2 [==============================] - 0s 42ms/step - loss: 1.4465 - accuracy: 0.6471 - val_loss: 1.8822 - val_accuracy: 0.5833\n",
            "Epoch 48/100\n",
            "2/2 [==============================] - 0s 40ms/step - loss: 1.2676 - accuracy: 0.6765 - val_loss: 1.8916 - val_accuracy: 0.5833\n",
            "Epoch 49/100\n",
            "2/2 [==============================] - 0s 43ms/step - loss: 2.3046 - accuracy: 0.5294 - val_loss: 1.9014 - val_accuracy: 0.5833\n",
            "Epoch 50/100\n",
            "2/2 [==============================] - 0s 38ms/step - loss: 2.4940 - accuracy: 0.6765 - val_loss: 1.9105 - val_accuracy: 0.5000\n",
            "Epoch 51/100\n",
            "2/2 [==============================] - 0s 38ms/step - loss: 2.7432 - accuracy: 0.7059 - val_loss: 1.9203 - val_accuracy: 0.5000\n",
            "Epoch 52/100\n",
            "2/2 [==============================] - 0s 38ms/step - loss: 2.9484 - accuracy: 0.6765 - val_loss: 1.9321 - val_accuracy: 0.5000\n",
            "Epoch 53/100\n",
            "2/2 [==============================] - 0s 38ms/step - loss: 2.2264 - accuracy: 0.7647 - val_loss: 1.9498 - val_accuracy: 0.5000\n",
            "Epoch 54/100\n",
            "2/2 [==============================] - 0s 39ms/step - loss: 1.5761 - accuracy: 0.6471 - val_loss: 1.9562 - val_accuracy: 0.5000\n",
            "Epoch 55/100\n",
            "2/2 [==============================] - 0s 36ms/step - loss: 3.0875 - accuracy: 0.6765 - val_loss: 1.9481 - val_accuracy: 0.5000\n",
            "Epoch 56/100\n",
            "2/2 [==============================] - 0s 39ms/step - loss: 2.5476 - accuracy: 0.6471 - val_loss: 1.9428 - val_accuracy: 0.5000\n",
            "Epoch 57/100\n",
            "2/2 [==============================] - 0s 38ms/step - loss: 3.8572 - accuracy: 0.5882 - val_loss: 1.9421 - val_accuracy: 0.5000\n",
            "Epoch 58/100\n",
            "2/2 [==============================] - 0s 37ms/step - loss: 2.2141 - accuracy: 0.6471 - val_loss: 1.9462 - val_accuracy: 0.5000\n",
            "Epoch 59/100\n",
            "2/2 [==============================] - 0s 52ms/step - loss: 1.8869 - accuracy: 0.7647 - val_loss: 1.9563 - val_accuracy: 0.5000\n",
            "Epoch 60/100\n",
            "2/2 [==============================] - 0s 37ms/step - loss: 1.8644 - accuracy: 0.7059 - val_loss: 1.9646 - val_accuracy: 0.5000\n",
            "Epoch 61/100\n",
            "2/2 [==============================] - 0s 37ms/step - loss: 3.0411 - accuracy: 0.6176 - val_loss: 1.9735 - val_accuracy: 0.5000\n",
            "Epoch 62/100\n",
            "2/2 [==============================] - 0s 41ms/step - loss: 1.1645 - accuracy: 0.7059 - val_loss: 1.9831 - val_accuracy: 0.5000\n",
            "Epoch 63/100\n",
            "2/2 [==============================] - 0s 42ms/step - loss: 2.7771 - accuracy: 0.6471 - val_loss: 1.9935 - val_accuracy: 0.5000\n",
            "Epoch 64/100\n",
            "2/2 [==============================] - 0s 53ms/step - loss: 0.9525 - accuracy: 0.7353 - val_loss: 2.0050 - val_accuracy: 0.5000\n",
            "Epoch 65/100\n",
            "2/2 [==============================] - 0s 38ms/step - loss: 1.7692 - accuracy: 0.6471 - val_loss: 2.0196 - val_accuracy: 0.5000\n",
            "Epoch 66/100\n",
            "2/2 [==============================] - 0s 35ms/step - loss: 0.9312 - accuracy: 0.7059 - val_loss: 2.0346 - val_accuracy: 0.5000\n",
            "Epoch 67/100\n",
            "2/2 [==============================] - 0s 39ms/step - loss: 2.2499 - accuracy: 0.6765 - val_loss: 2.0589 - val_accuracy: 0.5000\n",
            "Epoch 68/100\n",
            "2/2 [==============================] - 0s 40ms/step - loss: 2.0980 - accuracy: 0.7059 - val_loss: 2.0817 - val_accuracy: 0.5000\n",
            "Epoch 69/100\n",
            "2/2 [==============================] - 0s 39ms/step - loss: 1.1363 - accuracy: 0.7059 - val_loss: 2.0965 - val_accuracy: 0.5000\n",
            "Epoch 70/100\n",
            "2/2 [==============================] - 0s 35ms/step - loss: 1.5002 - accuracy: 0.7647 - val_loss: 2.1156 - val_accuracy: 0.5000\n",
            "Epoch 71/100\n",
            "2/2 [==============================] - 0s 40ms/step - loss: 2.9925 - accuracy: 0.5294 - val_loss: 2.1387 - val_accuracy: 0.5000\n",
            "Epoch 72/100\n",
            "2/2 [==============================] - 0s 39ms/step - loss: 2.1427 - accuracy: 0.7059 - val_loss: 2.1702 - val_accuracy: 0.5000\n",
            "Epoch 73/100\n",
            "2/2 [==============================] - 0s 39ms/step - loss: 1.8502 - accuracy: 0.7059 - val_loss: 2.2714 - val_accuracy: 0.5000\n",
            "Epoch 74/100\n",
            "2/2 [==============================] - 0s 36ms/step - loss: 1.7567 - accuracy: 0.7647 - val_loss: 3.0922 - val_accuracy: 0.5000\n",
            "Epoch 75/100\n",
            "2/2 [==============================] - 0s 38ms/step - loss: 2.8445 - accuracy: 0.6176 - val_loss: 3.0966 - val_accuracy: 0.5000\n",
            "Epoch 76/100\n",
            "2/2 [==============================] - 0s 40ms/step - loss: 1.7848 - accuracy: 0.6176 - val_loss: 3.0981 - val_accuracy: 0.5000\n",
            "Epoch 77/100\n",
            "2/2 [==============================] - 0s 34ms/step - loss: 1.3384 - accuracy: 0.5588 - val_loss: 3.0955 - val_accuracy: 0.5000\n",
            "Epoch 78/100\n",
            "2/2 [==============================] - 0s 38ms/step - loss: 1.3141 - accuracy: 0.8235 - val_loss: 3.0949 - val_accuracy: 0.5000\n",
            "Epoch 79/100\n",
            "2/2 [==============================] - 0s 41ms/step - loss: 2.6941 - accuracy: 0.7353 - val_loss: 3.0954 - val_accuracy: 0.5000\n",
            "Epoch 80/100\n",
            "2/2 [==============================] - 0s 39ms/step - loss: 2.0515 - accuracy: 0.5882 - val_loss: 3.0957 - val_accuracy: 0.5000\n",
            "Epoch 81/100\n",
            "2/2 [==============================] - 0s 45ms/step - loss: 2.6907 - accuracy: 0.6471 - val_loss: 3.0974 - val_accuracy: 0.5000\n",
            "Epoch 82/100\n",
            "2/2 [==============================] - 0s 55ms/step - loss: 1.5236 - accuracy: 0.7059 - val_loss: 3.1000 - val_accuracy: 0.5000\n",
            "Epoch 83/100\n",
            "2/2 [==============================] - 0s 40ms/step - loss: 2.1660 - accuracy: 0.6176 - val_loss: 3.1037 - val_accuracy: 0.5000\n",
            "Epoch 84/100\n",
            "2/2 [==============================] - 0s 38ms/step - loss: 3.6184 - accuracy: 0.5294 - val_loss: 3.1102 - val_accuracy: 0.5000\n",
            "Epoch 85/100\n",
            "2/2 [==============================] - 0s 41ms/step - loss: 1.6252 - accuracy: 0.7059 - val_loss: 3.1147 - val_accuracy: 0.5000\n",
            "Epoch 86/100\n",
            "2/2 [==============================] - 0s 36ms/step - loss: 1.5044 - accuracy: 0.7353 - val_loss: 3.1184 - val_accuracy: 0.5000\n",
            "Epoch 87/100\n",
            "2/2 [==============================] - 0s 37ms/step - loss: 1.9624 - accuracy: 0.5588 - val_loss: 3.1251 - val_accuracy: 0.5000\n",
            "Epoch 88/100\n",
            "2/2 [==============================] - 0s 39ms/step - loss: 1.3857 - accuracy: 0.8235 - val_loss: 3.1352 - val_accuracy: 0.4167\n",
            "Epoch 89/100\n",
            "2/2 [==============================] - 0s 35ms/step - loss: 1.4435 - accuracy: 0.5882 - val_loss: 3.1466 - val_accuracy: 0.4167\n",
            "Epoch 90/100\n",
            "2/2 [==============================] - 0s 36ms/step - loss: 2.9769 - accuracy: 0.7059 - val_loss: 3.1629 - val_accuracy: 0.4167\n",
            "Epoch 91/100\n",
            "2/2 [==============================] - 0s 36ms/step - loss: 2.3890 - accuracy: 0.7059 - val_loss: 3.2038 - val_accuracy: 0.4167\n",
            "Epoch 92/100\n",
            "2/2 [==============================] - 0s 36ms/step - loss: 2.9383 - accuracy: 0.6471 - val_loss: 4.2461 - val_accuracy: 0.4167\n",
            "Epoch 93/100\n",
            "2/2 [==============================] - 0s 42ms/step - loss: 1.6571 - accuracy: 0.6176 - val_loss: 4.2495 - val_accuracy: 0.4167\n",
            "Epoch 94/100\n",
            "2/2 [==============================] - 0s 41ms/step - loss: 2.2690 - accuracy: 0.6176 - val_loss: 4.2713 - val_accuracy: 0.4167\n",
            "Epoch 95/100\n",
            "2/2 [==============================] - 0s 39ms/step - loss: 2.6918 - accuracy: 0.6176 - val_loss: 4.3496 - val_accuracy: 0.5000\n",
            "Epoch 96/100\n",
            "2/2 [==============================] - 0s 34ms/step - loss: 2.9298 - accuracy: 0.6176 - val_loss: 4.6215 - val_accuracy: 0.5000\n",
            "Epoch 97/100\n",
            "2/2 [==============================] - 0s 39ms/step - loss: 1.8986 - accuracy: 0.7059 - val_loss: 6.6295 - val_accuracy: 0.5000\n",
            "Epoch 98/100\n",
            "2/2 [==============================] - 0s 42ms/step - loss: 1.5083 - accuracy: 0.7647 - val_loss: 6.6202 - val_accuracy: 0.5000\n",
            "Epoch 99/100\n",
            "2/2 [==============================] - 0s 38ms/step - loss: 2.5064 - accuracy: 0.6765 - val_loss: 6.6119 - val_accuracy: 0.5000\n",
            "Epoch 100/100\n",
            "2/2 [==============================] - 0s 37ms/step - loss: 2.8530 - accuracy: 0.6471 - val_loss: 6.6055 - val_accuracy: 0.5000\n"
          ]
        },
        {
          "name": "stderr",
          "output_type": "stream",
          "text": [
            "c:\\Users\\Sahil\\AppData\\Local\\Programs\\Python\\Python310\\lib\\site-packages\\tensorflow\\python\\keras\\engine\\sequential.py:454: UserWarning: `model.predict_classes()` is deprecated and will be removed after 2021-01-01. Please use instead:* `np.argmax(model.predict(x), axis=-1)`,   if your model does multi-class classification   (e.g. if it uses a `softmax` last-layer activation).* `(model.predict(x) > 0.5).astype(\"int32\")`,   if your model does binary classification   (e.g. if it uses a `sigmoid` last-layer activation).\n",
            "  warnings.warn('`model.predict_classes()` is deprecated and '\n",
            "c:\\Users\\Sahil\\AppData\\Local\\Programs\\Python\\Python310\\lib\\site-packages\\tensorflow\\python\\keras\\engine\\sequential.py:454: UserWarning: `model.predict_classes()` is deprecated and will be removed after 2021-01-01. Please use instead:* `np.argmax(model.predict(x), axis=-1)`,   if your model does multi-class classification   (e.g. if it uses a `softmax` last-layer activation).* `(model.predict(x) > 0.5).astype(\"int32\")`,   if your model does binary classification   (e.g. if it uses a `sigmoid` last-layer activation).\n",
            "  warnings.warn('`model.predict_classes()` is deprecated and '\n",
            "c:\\Users\\Sahil\\AppData\\Local\\Programs\\Python\\Python310\\lib\\site-packages\\tensorflow\\python\\keras\\engine\\sequential.py:454: UserWarning: `model.predict_classes()` is deprecated and will be removed after 2021-01-01. Please use instead:* `np.argmax(model.predict(x), axis=-1)`,   if your model does multi-class classification   (e.g. if it uses a `softmax` last-layer activation).* `(model.predict(x) > 0.5).astype(\"int32\")`,   if your model does binary classification   (e.g. if it uses a `sigmoid` last-layer activation).\n",
            "  warnings.warn('`model.predict_classes()` is deprecated and '\n",
            "c:\\Users\\Sahil\\AppData\\Local\\Programs\\Python\\Python310\\lib\\site-packages\\tensorflow\\python\\keras\\engine\\sequential.py:454: UserWarning: `model.predict_classes()` is deprecated and will be removed after 2021-01-01. Please use instead:* `np.argmax(model.predict(x), axis=-1)`,   if your model does multi-class classification   (e.g. if it uses a `softmax` last-layer activation).* `(model.predict(x) > 0.5).astype(\"int32\")`,   if your model does binary classification   (e.g. if it uses a `sigmoid` last-layer activation).\n",
            "  warnings.warn('`model.predict_classes()` is deprecated and '\n"
          ]
        }
      ],
      "source": [
        "predictiveModels()"
      ]
    },
    {
      "cell_type": "code",
      "execution_count": null,
      "metadata": {},
      "outputs": [
        {
          "data": {
            "text/html": [
              "<div>\n",
              "<style scoped>\n",
              "    .dataframe tbody tr th:only-of-type {\n",
              "        vertical-align: middle;\n",
              "    }\n",
              "\n",
              "    .dataframe tbody tr th {\n",
              "        vertical-align: top;\n",
              "    }\n",
              "\n",
              "    .dataframe thead th {\n",
              "        text-align: right;\n",
              "    }\n",
              "</style>\n",
              "<table border=\"1\" class=\"dataframe\">\n",
              "  <thead>\n",
              "    <tr style=\"text-align: right;\">\n",
              "      <th></th>\n",
              "      <th>model</th>\n",
              "      <th>f1Score</th>\n",
              "      <th>accuracy</th>\n",
              "      <th>training score</th>\n",
              "      <th>auc</th>\n",
              "      <th>time</th>\n",
              "    </tr>\n",
              "  </thead>\n",
              "  <tbody>\n",
              "    <tr>\n",
              "      <th>0</th>\n",
              "      <td>LogisticRegression</td>\n",
              "      <td>0.800000</td>\n",
              "      <td>0.666667</td>\n",
              "      <td>0.647059</td>\n",
              "      <td>0.5000</td>\n",
              "      <td>1.775376</td>\n",
              "    </tr>\n",
              "    <tr>\n",
              "      <th>1</th>\n",
              "      <td>Decison Tree</td>\n",
              "      <td>0.800000</td>\n",
              "      <td>0.666667</td>\n",
              "      <td>0.647059</td>\n",
              "      <td>0.8000</td>\n",
              "      <td>0.434099</td>\n",
              "    </tr>\n",
              "    <tr>\n",
              "      <th>2</th>\n",
              "      <td>SVM</td>\n",
              "      <td>0.800000</td>\n",
              "      <td>0.666667</td>\n",
              "      <td>0.647059</td>\n",
              "      <td>0.5000</td>\n",
              "      <td>0.180093</td>\n",
              "    </tr>\n",
              "    <tr>\n",
              "      <th>3</th>\n",
              "      <td>Random Forest</td>\n",
              "      <td>0.666667</td>\n",
              "      <td>0.500000</td>\n",
              "      <td>0.676471</td>\n",
              "      <td>0.3750</td>\n",
              "      <td>23.721172</td>\n",
              "    </tr>\n",
              "    <tr>\n",
              "      <th>4</th>\n",
              "      <td>Naive Bayes</td>\n",
              "      <td>0.363636</td>\n",
              "      <td>0.416667</td>\n",
              "      <td>0.647059</td>\n",
              "      <td>0.5000</td>\n",
              "      <td>0.000000</td>\n",
              "    </tr>\n",
              "    <tr>\n",
              "      <th>5</th>\n",
              "      <td>XGBoost</td>\n",
              "      <td>0.800000</td>\n",
              "      <td>0.666667</td>\n",
              "      <td>0.647059</td>\n",
              "      <td>0.5000</td>\n",
              "      <td>2.907471</td>\n",
              "    </tr>\n",
              "    <tr>\n",
              "      <th>6</th>\n",
              "      <td>LDA</td>\n",
              "      <td>0.307692</td>\n",
              "      <td>0.250000</td>\n",
              "      <td>0.794118</td>\n",
              "      <td>0.2500</td>\n",
              "      <td>0.210087</td>\n",
              "    </tr>\n",
              "    <tr>\n",
              "      <th>7</th>\n",
              "      <td>KNN</td>\n",
              "      <td>0.705882</td>\n",
              "      <td>0.583333</td>\n",
              "      <td>0.705882</td>\n",
              "      <td>0.5000</td>\n",
              "      <td>0.282534</td>\n",
              "    </tr>\n",
              "    <tr>\n",
              "      <th>8</th>\n",
              "      <td>AdaBoost</td>\n",
              "      <td>0.428571</td>\n",
              "      <td>0.333333</td>\n",
              "      <td>1.000000</td>\n",
              "      <td>0.3125</td>\n",
              "      <td>0.145080</td>\n",
              "    </tr>\n",
              "    <tr>\n",
              "      <th>9</th>\n",
              "      <td>Neural Netwrok</td>\n",
              "      <td>0.625000</td>\n",
              "      <td>0.500000</td>\n",
              "      <td>0.735294</td>\n",
              "      <td>0.4375</td>\n",
              "      <td>6.517114</td>\n",
              "    </tr>\n",
              "  </tbody>\n",
              "</table>\n",
              "</div>"
            ],
            "text/plain": [
              "                model   f1Score  accuracy  training score     auc       time\n",
              "0  LogisticRegression  0.800000  0.666667        0.647059  0.5000   1.775376\n",
              "1        Decison Tree  0.800000  0.666667        0.647059  0.8000   0.434099\n",
              "2                 SVM  0.800000  0.666667        0.647059  0.5000   0.180093\n",
              "3       Random Forest  0.666667  0.500000        0.676471  0.3750  23.721172\n",
              "4         Naive Bayes  0.363636  0.416667        0.647059  0.5000   0.000000\n",
              "5             XGBoost  0.800000  0.666667        0.647059  0.5000   2.907471\n",
              "6                 LDA  0.307692  0.250000        0.794118  0.2500   0.210087\n",
              "7                 KNN  0.705882  0.583333        0.705882  0.5000   0.282534\n",
              "8            AdaBoost  0.428571  0.333333        1.000000  0.3125   0.145080\n",
              "9      Neural Netwrok  0.625000  0.500000        0.735294  0.4375   6.517114"
            ]
          },
          "metadata": {},
          "output_type": "display_data"
        }
      ],
      "source": [
        "result_"
      ]
    },
    {
      "cell_type": "code",
      "execution_count": null,
      "metadata": {},
      "outputs": [],
      "source": [
        "def plotting(dataframe_,title1,title2,supertitle):\n",
        "\n",
        "    sns.set_palette(\"Paired\") # This is for theming palette\n",
        "    plt.figure(figsize=(25,5)) # Setting up the figure size\n",
        "    x = np.arange(dataframe_.shape[0]) # For x ticks purpose \n",
        "\n",
        "\n",
        "    plt.subplot(1,2,1) # First subplot\n",
        "    plt.suptitle(supertitle,fontsize=15)\n",
        "\n",
        "    plt.bar(x,dataframe_[\"training score\"],width=0.3,label=\"train\") # Plotting the line graph for training score\n",
        "    for index,values in zip(x,dataframe_[\"training score\"]): # This is for adding text to the graph\n",
        "        plt.text(index-0.1,values/2,f\"{values:.2f}\",color=\"#576CBC\")\n",
        "\n",
        "    plt.bar(x+0.3,dataframe_[\"accuracy\"],\n",
        "            width=0.3,\n",
        "            label=\"accuracy\")\n",
        "    for index,values in zip(x,dataframe_[\"accuracy\"]):\n",
        "        plt.text(index+0.2,values/2,f\"{values:.2f}\",color=\"#FFF2CC\")\n",
        "\n",
        "    plt.xticks(x,dataframe_[\"model\"],rotation=50)\n",
        "    plt.title(title1)\n",
        "    plt.xlabel(\"Models\")\n",
        "    plt.ylabel(\"Training and Testing score\")\n",
        "    plt.legend()\n",
        "\n",
        "\n",
        "    plt.subplot(1,2,2)\n",
        "\n",
        "\n",
        "    plt.bar(x,dataframe_[\"f1Score\"],width=0.3,label=\"f1Score\")\n",
        "\n",
        "    for index,values in zip(x,dataframe_[\"f1Score\"]):\n",
        "        plt.text(index,values/2,f\"{values:.2f}\",verticalalignment=\"bottom\",horizontalalignment='center',color=\"#0B2447\",fontsize=\"small\")\n",
        "    \n",
        "    plt.bar(x+0.3,dataframe_[\"auc\"],width=0.3,label=\"auc\")\n",
        "\n",
        "    for index,values in zip(x,dataframe_[\"auc\"]):\n",
        "        plt.text(index+0.3,values/2,f\"{values:.2f}\",verticalalignment=\"bottom\",horizontalalignment='center',color=\"#0B2447\",fontsize=\"small\")\n",
        "\n",
        "    \n",
        "    plt.xticks(x,dataframe_[\"model\"],rotation=45)\n",
        "    plt.title(title2)\n",
        "    plt.xlabel(\"Models\")\n",
        "    plt.ylabel(\"Score\")\n",
        "    plt.legend()\n",
        "    plt.show()"
      ]
    },
    {
      "cell_type": "code",
      "execution_count": null,
      "metadata": {},
      "outputs": [
        {
          "data": {
            "image/png": "[encoded data removed]",
            "text/plain": [
              "<Figure size 1800x360 with 2 Axes>"
            ]
          },
          "metadata": {},
          "output_type": "display_data"
        }
      ],
      "source": [
        "plotting(result_,title1 = \"Training and testing accuracy for models\",title2 = \"f1_score and auc for models\",supertitle=\"Model Comparison\")"
      ]
    },
    {
      "cell_type": "code",
      "execution_count": null,
      "metadata": {},
      "outputs": [
        {
          "data": {
            "text/plain": [
              "Text(0, 0.5, 'Training time')"
            ]
          },
          "metadata": {},
          "output_type": "display_data"
        },
        {
          "data": {
            "image/png": "[encoded data removed]",
            "text/plain": [
              "<Figure size 1440x576 with 1 Axes>"
            ]
          },
          "metadata": {},
          "output_type": "display_data"
        }
      ],
      "source": [
        "# Plotting the time for every model\n",
        "plt.figure(figsize=(20,8))\n",
        "plt.plot(result_[\"model\"],result_[\"time\"],marker=\"*\",lw=1)\n",
        "for x,val in enumerate(result_[\"time\"]):\n",
        "    plt.text(x,val,f\"{val:.2f}\",verticalalignment=\"bottom\",fontsize='small',horizontalalignment=\"center\")\n",
        "plt.title(\"Model vs training time\")\n",
        "plt.xlabel(\"Models\")\n",
        "plt.ylabel(\"Training time\")"
      ]
    }
  ],
  "metadata": {
    "colab": {
      "provenance": []
    },
    "kernelspec": {
      "display_name": "base",
      "language": "python",
      "name": "python3"
    },
    "language_info": {
      "codemirror_mode": {
        "name": "ipython",
        "version": 3
      },
      "file_extension": ".py",
      "mimetype": "text/x-python",
      "name": "python",
      "nbconvert_exporter": "python",
      "pygments_lexer": "ipython3",
      "version": "3.10.7"
    },
    "orig_nbformat": 4
  },
  "nbformat": 4,
  "nbformat_minor": 0
}
