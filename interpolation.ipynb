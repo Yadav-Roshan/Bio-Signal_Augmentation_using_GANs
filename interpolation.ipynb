{
 "cells": [
  {
   "cell_type": "code",
   "execution_count": 23,
   "metadata": {},
   "outputs": [],
   "source": [
    "import mne\n",
    "import numpy\n",
    "import pandas\n",
    "import matplotlib.pyplot as plt\n",
    "import mne\n",
    "import mne_bids\n",
    "import os\n",
    "import pathlib\n",
    "import numpy as np\n",
    "mne.set_log_level('WARNING')"
   ]
  },
  {
   "cell_type": "code",
   "execution_count": 24,
   "metadata": {},
   "outputs": [],
   "source": [
    "files = os.listdir(r\"Dataset\")\n",
    "\n",
    "hc = []\n",
    "for file in files:\n",
    "    if \"hc\" in str(file):\n",
    "        hc.append(file.split(\"-\")[1])\n",
    "    \n",
    "\n",
    "pd = []\n",
    "for file in files:\n",
    "    if \"pd\" in str(file):\n",
    "        pd.append(file.split(\"-\")[1])"
   ]
  },
  {
   "cell_type": "code",
   "execution_count": 25,
   "metadata": {},
   "outputs": [],
   "source": [
    "raws_hc = []\n",
    "raws_pd_on = []\n",
    "raws_pd_off = []\n",
    "events_g = []\n",
    "count = 1"
   ]
  },
  {
   "cell_type": "code",
   "execution_count": 26,
   "metadata": {},
   "outputs": [],
   "source": [
    "def loadAndPreprocess(session):\n",
    "    global count\n",
    "    bids_root = pathlib.Path(r'Dataset')\n",
    "    bids_path = mne_bids.BIDSPath(subject=session[0],\n",
    "                                    session=session[1],\n",
    "                                    task='rest',\n",
    "                            \n",
    "                                    datatype='eeg',\n",
    "                                    root=bids_root)\n",
    "    raw = mne_bids.read_raw_bids(bids_path)\n",
    "        \n",
    "    \n",
    "    \n",
    "    # To Start from onset event\n",
    "    tmin = 0 \n",
    "    events, event_id = mne.events_from_annotations(raw)\n",
    "    if events.shape[0] == 2 and \"1\" in event_id :\n",
    "        tmin = events[1][0] * 0.001\n",
    "    elif events.shape[0] == 1 and \"1\" in event_id:\n",
    "        tmin = events[0][0] * 0.001    \n",
    "    raw.crop(tmin = tmin)\n",
    "    \n",
    "    \n",
    "    \n",
    "    # only 3 miutes for each sample\n",
    "    tmax = 180.\n",
    "    raw.crop(tmax = tmax)\n",
    "    \n",
    "    \n",
    "    \n",
    "    # Excluding EXG Channels\n",
    "    raw.pick_types(eeg=True, exclude=['EXG1', 'EXG2', 'EXG3', 'EXG4', 'EXG5', 'EXG6', 'EXG7', 'EXG8'])\n",
    "    \n",
    "    \n",
    "    \n",
    "    # Filtering\n",
    "    raw.load_data().filter(l_freq = 0.5,h_freq=30)\n",
    "    montage = mne.channels.make_standard_montage('easycap-M1')\n",
    "    raw.set_montage(montage)\n",
    "    \n",
    "\n",
    "    #creating Stamps for events\n",
    "    ev = 92160 * count\n",
    "    if (session[1] == 'hc'):\n",
    "        events_g.append([ev , 0 , 0])\n",
    "        raws_hc.append(raw)\n",
    "\n",
    "        \n",
    "    elif (session[1] == 'off'):\n",
    "        events_g.append([ev , 0 , 1])\n",
    "        raws_pd_off.append(raw)\n",
    "\n",
    "    else:\n",
    "        events_g.append([ev, 0, 1])\n",
    "        raws_pd_on.append(raw)\n",
    "    \n",
    "    \n",
    "    count += 1\n",
    "    "
   ]
  },
  {
   "cell_type": "code",
   "execution_count": 27,
   "metadata": {},
   "outputs": [
    {
     "name": "stderr",
     "output_type": "stream",
     "text": [
      "C:\\Users\\sit\\AppData\\Local\\Temp\\ipykernel_14012\\3410367340.py:10: RuntimeWarning: The unit for channel(s) Status has changed from NA to V.\n",
      "  raw = mne_bids.read_raw_bids(bids_path)\n",
      "C:\\Users\\sit\\AppData\\Local\\Temp\\ipykernel_14012\\3410367340.py:10: RuntimeWarning: The unit for channel(s) Status has changed from NA to V.\n",
      "  raw = mne_bids.read_raw_bids(bids_path)\n",
      "C:\\Users\\sit\\AppData\\Local\\Temp\\ipykernel_14012\\3410367340.py:10: RuntimeWarning: The unit for channel(s) Status has changed from NA to V.\n",
      "  raw = mne_bids.read_raw_bids(bids_path)\n",
      "C:\\Users\\sit\\AppData\\Local\\Temp\\ipykernel_14012\\3410367340.py:10: RuntimeWarning: The unit for channel(s) Status has changed from NA to V.\n",
      "  raw = mne_bids.read_raw_bids(bids_path)\n",
      "C:\\Users\\sit\\AppData\\Local\\Temp\\ipykernel_14012\\3410367340.py:10: RuntimeWarning: The unit for channel(s) Status has changed from NA to V.\n",
      "  raw = mne_bids.read_raw_bids(bids_path)\n",
      "C:\\Users\\sit\\AppData\\Local\\Temp\\ipykernel_14012\\3410367340.py:10: RuntimeWarning: The unit for channel(s) Status has changed from NA to V.\n",
      "  raw = mne_bids.read_raw_bids(bids_path)\n",
      "C:\\Users\\sit\\AppData\\Local\\Temp\\ipykernel_14012\\3410367340.py:10: RuntimeWarning: The unit for channel(s) Status has changed from NA to V.\n",
      "  raw = mne_bids.read_raw_bids(bids_path)\n",
      "C:\\Users\\sit\\AppData\\Local\\Temp\\ipykernel_14012\\3410367340.py:10: RuntimeWarning: The unit for channel(s) Status has changed from NA to V.\n",
      "  raw = mne_bids.read_raw_bids(bids_path)\n",
      "C:\\Users\\sit\\AppData\\Local\\Temp\\ipykernel_14012\\3410367340.py:10: RuntimeWarning: The unit for channel(s) Status has changed from NA to V.\n",
      "  raw = mne_bids.read_raw_bids(bids_path)\n",
      "C:\\Users\\sit\\AppData\\Local\\Temp\\ipykernel_14012\\3410367340.py:10: RuntimeWarning: The unit for channel(s) Status has changed from NA to V.\n",
      "  raw = mne_bids.read_raw_bids(bids_path)\n",
      "C:\\Users\\sit\\AppData\\Local\\Temp\\ipykernel_14012\\3410367340.py:10: RuntimeWarning: The unit for channel(s) Status has changed from NA to V.\n",
      "  raw = mne_bids.read_raw_bids(bids_path)\n",
      "C:\\Users\\sit\\AppData\\Local\\Temp\\ipykernel_14012\\3410367340.py:10: RuntimeWarning: The unit for channel(s) Status has changed from NA to V.\n",
      "  raw = mne_bids.read_raw_bids(bids_path)\n",
      "C:\\Users\\sit\\AppData\\Local\\Temp\\ipykernel_14012\\3410367340.py:10: RuntimeWarning: The unit for channel(s) Status has changed from NA to V.\n",
      "  raw = mne_bids.read_raw_bids(bids_path)\n",
      "C:\\Users\\sit\\AppData\\Local\\Temp\\ipykernel_14012\\3410367340.py:10: RuntimeWarning: The unit for channel(s) Status has changed from NA to V.\n",
      "  raw = mne_bids.read_raw_bids(bids_path)\n",
      "C:\\Users\\sit\\AppData\\Local\\Temp\\ipykernel_14012\\3410367340.py:10: RuntimeWarning: The unit for channel(s) Status has changed from NA to V.\n",
      "  raw = mne_bids.read_raw_bids(bids_path)\n",
      "C:\\Users\\sit\\AppData\\Local\\Temp\\ipykernel_14012\\3410367340.py:10: RuntimeWarning: The unit for channel(s) Status has changed from NA to V.\n",
      "  raw = mne_bids.read_raw_bids(bids_path)\n",
      "C:\\Users\\sit\\AppData\\Local\\Temp\\ipykernel_14012\\3410367340.py:10: RuntimeWarning: The unit for channel(s) Status has changed from NA to V.\n",
      "  raw = mne_bids.read_raw_bids(bids_path)\n",
      "C:\\Users\\sit\\AppData\\Local\\Temp\\ipykernel_14012\\3410367340.py:10: RuntimeWarning: The unit for channel(s) Status has changed from NA to V.\n",
      "  raw = mne_bids.read_raw_bids(bids_path)\n",
      "C:\\Users\\sit\\AppData\\Local\\Temp\\ipykernel_14012\\3410367340.py:10: RuntimeWarning: The unit for channel(s) Status has changed from NA to V.\n",
      "  raw = mne_bids.read_raw_bids(bids_path)\n",
      "C:\\Users\\sit\\AppData\\Local\\Temp\\ipykernel_14012\\3410367340.py:10: RuntimeWarning: The unit for channel(s) Status has changed from NA to V.\n",
      "  raw = mne_bids.read_raw_bids(bids_path)\n",
      "C:\\Users\\sit\\AppData\\Local\\Temp\\ipykernel_14012\\3410367340.py:10: RuntimeWarning: The unit for channel(s) Status has changed from NA to V.\n",
      "  raw = mne_bids.read_raw_bids(bids_path)\n",
      "C:\\Users\\sit\\AppData\\Local\\Temp\\ipykernel_14012\\3410367340.py:10: RuntimeWarning: The unit for channel(s) Status has changed from NA to V.\n",
      "  raw = mne_bids.read_raw_bids(bids_path)\n",
      "C:\\Users\\sit\\AppData\\Local\\Temp\\ipykernel_14012\\3410367340.py:10: RuntimeWarning: The unit for channel(s) Status has changed from NA to V.\n",
      "  raw = mne_bids.read_raw_bids(bids_path)\n",
      "C:\\Users\\sit\\AppData\\Local\\Temp\\ipykernel_14012\\3410367340.py:10: RuntimeWarning: The unit for channel(s) Status has changed from NA to V.\n",
      "  raw = mne_bids.read_raw_bids(bids_path)\n",
      "C:\\Users\\sit\\AppData\\Local\\Temp\\ipykernel_14012\\3410367340.py:10: RuntimeWarning: The unit for channel(s) Status has changed from NA to V.\n",
      "  raw = mne_bids.read_raw_bids(bids_path)\n",
      "C:\\Users\\sit\\AppData\\Local\\Temp\\ipykernel_14012\\3410367340.py:10: RuntimeWarning: The unit for channel(s) Status has changed from NA to V.\n",
      "  raw = mne_bids.read_raw_bids(bids_path)\n",
      "C:\\Users\\sit\\AppData\\Local\\Temp\\ipykernel_14012\\3410367340.py:10: RuntimeWarning: The unit for channel(s) Status has changed from NA to V.\n",
      "  raw = mne_bids.read_raw_bids(bids_path)\n",
      "C:\\Users\\sit\\AppData\\Local\\Temp\\ipykernel_14012\\3410367340.py:10: RuntimeWarning: The unit for channel(s) Status has changed from NA to V.\n",
      "  raw = mne_bids.read_raw_bids(bids_path)\n",
      "C:\\Users\\sit\\AppData\\Local\\Temp\\ipykernel_14012\\3410367340.py:10: RuntimeWarning: The unit for channel(s) Status has changed from NA to V.\n",
      "  raw = mne_bids.read_raw_bids(bids_path)\n",
      "C:\\Users\\sit\\AppData\\Local\\Temp\\ipykernel_14012\\3410367340.py:10: RuntimeWarning: The unit for channel(s) Status has changed from NA to V.\n",
      "  raw = mne_bids.read_raw_bids(bids_path)\n",
      "C:\\Users\\sit\\AppData\\Local\\Temp\\ipykernel_14012\\3410367340.py:10: RuntimeWarning: The unit for channel(s) Status has changed from NA to V.\n",
      "  raw = mne_bids.read_raw_bids(bids_path)\n",
      "C:\\Users\\sit\\AppData\\Local\\Temp\\ipykernel_14012\\3410367340.py:10: RuntimeWarning: The unit for channel(s) Status has changed from NA to V.\n",
      "  raw = mne_bids.read_raw_bids(bids_path)\n",
      "C:\\Users\\sit\\AppData\\Local\\Temp\\ipykernel_14012\\3410367340.py:10: RuntimeWarning: The unit for channel(s) Status has changed from NA to V.\n",
      "  raw = mne_bids.read_raw_bids(bids_path)\n",
      "C:\\Users\\sit\\AppData\\Local\\Temp\\ipykernel_14012\\3410367340.py:10: RuntimeWarning: The unit for channel(s) Status has changed from NA to V.\n",
      "  raw = mne_bids.read_raw_bids(bids_path)\n",
      "C:\\Users\\sit\\AppData\\Local\\Temp\\ipykernel_14012\\3410367340.py:10: RuntimeWarning: The unit for channel(s) Status has changed from NA to V.\n",
      "  raw = mne_bids.read_raw_bids(bids_path)\n",
      "C:\\Users\\sit\\AppData\\Local\\Temp\\ipykernel_14012\\3410367340.py:10: RuntimeWarning: The unit for channel(s) Status has changed from NA to V.\n",
      "  raw = mne_bids.read_raw_bids(bids_path)\n",
      "C:\\Users\\sit\\AppData\\Local\\Temp\\ipykernel_14012\\3410367340.py:10: RuntimeWarning: The unit for channel(s) Status has changed from NA to V.\n",
      "  raw = mne_bids.read_raw_bids(bids_path)\n",
      "C:\\Users\\sit\\AppData\\Local\\Temp\\ipykernel_14012\\3410367340.py:10: RuntimeWarning: The unit for channel(s) Status has changed from NA to V.\n",
      "  raw = mne_bids.read_raw_bids(bids_path)\n",
      "C:\\Users\\sit\\AppData\\Local\\Temp\\ipykernel_14012\\3410367340.py:10: RuntimeWarning: The unit for channel(s) Status has changed from NA to V.\n",
      "  raw = mne_bids.read_raw_bids(bids_path)\n",
      "C:\\Users\\sit\\AppData\\Local\\Temp\\ipykernel_14012\\3410367340.py:10: RuntimeWarning: The unit for channel(s) Status has changed from NA to V.\n",
      "  raw = mne_bids.read_raw_bids(bids_path)\n",
      "C:\\Users\\sit\\AppData\\Local\\Temp\\ipykernel_14012\\3410367340.py:10: RuntimeWarning: The unit for channel(s) Status has changed from NA to V.\n",
      "  raw = mne_bids.read_raw_bids(bids_path)\n",
      "C:\\Users\\sit\\AppData\\Local\\Temp\\ipykernel_14012\\3410367340.py:10: RuntimeWarning: The unit for channel(s) Status has changed from NA to V.\n",
      "  raw = mne_bids.read_raw_bids(bids_path)\n",
      "C:\\Users\\sit\\AppData\\Local\\Temp\\ipykernel_14012\\3410367340.py:10: RuntimeWarning: The unit for channel(s) Status has changed from NA to V.\n",
      "  raw = mne_bids.read_raw_bids(bids_path)\n",
      "C:\\Users\\sit\\AppData\\Local\\Temp\\ipykernel_14012\\3410367340.py:10: RuntimeWarning: The unit for channel(s) Status has changed from NA to V.\n",
      "  raw = mne_bids.read_raw_bids(bids_path)\n",
      "C:\\Users\\sit\\AppData\\Local\\Temp\\ipykernel_14012\\3410367340.py:10: RuntimeWarning: The unit for channel(s) Status has changed from NA to V.\n",
      "  raw = mne_bids.read_raw_bids(bids_path)\n",
      "C:\\Users\\sit\\AppData\\Local\\Temp\\ipykernel_14012\\3410367340.py:10: RuntimeWarning: The unit for channel(s) Status has changed from NA to V.\n",
      "  raw = mne_bids.read_raw_bids(bids_path)\n"
     ]
    }
   ],
   "source": [
    "for hc0 in hc:\n",
    "    hc_session = (hc0, \"hc\")\n",
    "    loadAndPreprocess(hc_session)\n",
    "\n",
    "for pd0 in pd:\n",
    "    off_session = (pd0, \"off\")\n",
    "    on_session = (pd0, \"on\")\n",
    "    loadAndPreprocess(off_session)\n",
    "    loadAndPreprocess(on_session)"
   ]
  },
  {
   "cell_type": "code",
   "execution_count": 28,
   "metadata": {},
   "outputs": [],
   "source": [
    "raws = raws_hc + raws_pd_off + raws_pd_on"
   ]
  },
  {
   "cell_type": "code",
   "execution_count": 29,
   "metadata": {},
   "outputs": [],
   "source": [
    "all_data = mne.io.concatenate_raws(raws)"
   ]
  },
  {
   "cell_type": "code",
   "execution_count": 30,
   "metadata": {},
   "outputs": [],
   "source": [
    "event_id = {'hc': 0, 'pd': 1}\n",
    "events = np.array(events_g)"
   ]
  },
  {
   "cell_type": "code",
   "execution_count": 31,
   "metadata": {},
   "outputs": [
    {
     "name": "stdout",
     "output_type": "stream",
     "text": [
      "Not setting metadata\n",
      "46 matching events found\n",
      "Setting baseline interval to [-176.0, 0.0] s\n",
      "Applying baseline correction (mode: mean)\n",
      "0 projection items activated\n",
      "Using data from preloaded Raw for 46 events and 90113 original time points ...\n",
      "0 bad epochs dropped\n"
     ]
    },
    {
     "data": {
      "text/html": [
       "<table class=\"table table-hover table-striped table-sm table-responsive small\">\n",
       "    <tr>\n",
       "        <th>Number of events</th>\n",
       "        <td>46</td>\n",
       "    </tr>\n",
       "    <tr>\n",
       "        <th>Events</th>\n",
       "        \n",
       "        <td>hc: 16<br/>pd: 30</td>\n",
       "        \n",
       "    </tr>\n",
       "    <tr>\n",
       "        <th>Time range</th>\n",
       "        <td>-176.000 – 0.000 s</td>\n",
       "    </tr>\n",
       "    <tr>\n",
       "        <th>Baseline</th>\n",
       "        <td>-176.000 – 0.000 s</td>\n",
       "    </tr>\n",
       "</table>"
      ],
      "text/plain": [
       "<Epochs |  46 events (all good), -176 – 0 s, baseline -176 – 0 s, ~1012.1 MB, data loaded,\n",
       " 'hc': 16\n",
       " 'pd': 30>"
      ]
     },
     "execution_count": 31,
     "metadata": {},
     "output_type": "execute_result"
    }
   ],
   "source": [
    "tmin = -176\n",
    "tmax = 0\n",
    "baseline = (None, None)\n",
    "\n",
    "epochs = mne.Epochs(all_data,\n",
    "                    events=events,\n",
    "                    event_id=event_id,\n",
    "                    tmin=tmin,\n",
    "                    tmax=tmax,\n",
    "                    baseline=baseline,\n",
    "                    preload=True,\n",
    "                    event_repeated = 'error',\n",
    "                    verbose=True)\n",
    "epochs"
   ]
  },
  {
   "cell_type": "code",
   "execution_count": 32,
   "metadata": {},
   "outputs": [],
   "source": [
    "from scipy.spatial.distance import euclidean\n",
    "from fastdtw import fastdtw\n",
    "\n",
    "def find_most_similar_sample(query_sample, training_samples):\n",
    "    min_distance = float('inf')\n",
    "    most_similar_sample = None\n",
    "\n",
    "    for sample in training_samples:\n",
    "        distance, _ = fastdtw(query_sample, sample, dist=euclidean)\n",
    "        if distance < min_distance:\n",
    "            min_distance = distance\n",
    "            most_similar_sample = sample\n",
    "\n",
    "    return most_similar_sample\n",
    "\n",
    "def data_augmentation_interpolation_2d(signals):\n",
    "    augmented_signals = []\n",
    "    training_signals = signals  # Assuming the first k signals are the training signals\n",
    "\n",
    "    for signal in signals:\n",
    "        most_similar_signal = find_most_similar_sample(signal, training_signals)\n",
    "        interpolated_signal = (0.5 * signal) + (0.5 * most_similar_signal)\n",
    "        augmented_signals.append(interpolated_signal)\n",
    "\n",
    "    return augmented_signals\n",
    "\n",
    "# Example usage:\n",
    "# Assume you have a list of 2D signals\n",
    "signals = list(epochs.get_data())\n",
    "\n",
    "augmented_signals = data_augmentation_interpolation_2d(signals)\n"
   ]
  },
  {
   "cell_type": "code",
   "execution_count": 34,
   "metadata": {},
   "outputs": [
    {
     "name": "stdout",
     "output_type": "stream",
     "text": [
      "Not setting metadata\n",
      "46 matching events found\n",
      "Setting baseline interval to [-176.0, 0.0] s\n",
      "Applying baseline correction (mode: mean)\n",
      "0 projection items activated\n",
      "Using data from preloaded Raw for 46 events and 90113 original time points ...\n",
      "0 bad epochs dropped\n"
     ]
    }
   ],
   "source": [
    "tmin = -176\n",
    "tmax = 0\n",
    "baseline = (None, None)\n",
    "\n",
    "epochs_interpolated = mne.Epochs(all_data,\n",
    "                    events=events,\n",
    "                    event_id=event_id,\n",
    "                    tmin=tmin,\n",
    "                    tmax=tmax,\n",
    "                    baseline=baseline,\n",
    "                    preload=True,\n",
    "                    event_repeated = 'error',\n",
    "                    verbose=True)"
   ]
  },
  {
   "cell_type": "code",
   "execution_count": 35,
   "metadata": {},
   "outputs": [],
   "source": [
    "for i in range(0, len(epochs_interpolated)):\n",
    "    epochs_interpolated[i]._data = augmented_signals[i]"
   ]
  },
  {
   "cell_type": "code",
   "execution_count": 36,
   "metadata": {},
   "outputs": [
    {
     "data": {
      "text/plain": [
       "True"
      ]
     },
     "execution_count": 36,
     "metadata": {},
     "output_type": "execute_result"
    }
   ],
   "source": [
    "epochs_interpolated[0] == epochs[0]"
   ]
  },
  {
   "cell_type": "code",
   "execution_count": 37,
   "metadata": {},
   "outputs": [
    {
     "name": "stderr",
     "output_type": "stream",
     "text": [
      "C:\\Users\\sit\\AppData\\Local\\Temp\\ipykernel_14012\\1342883461.py:1: RuntimeWarning: Concatenation of Annotations within Epochs is not supported yet. All annotations will be dropped.\n",
      "  epochs_final = mne.concatenate_epochs([epochs, epochs_interpolated])\n"
     ]
    }
   ],
   "source": [
    "epochs_final = mne.concatenate_epochs([epochs, epochs_interpolated])"
   ]
  },
  {
   "attachments": {},
   "cell_type": "markdown",
   "metadata": {},
   "source": [
    "### **Feature Extraction**"
   ]
  },
  {
   "cell_type": "code",
   "execution_count": 38,
   "metadata": {},
   "outputs": [],
   "source": [
    "from mne.decoding import CSP\n",
    "from sklearn.preprocessing import LabelEncoder\n",
    "le = LabelEncoder()\n",
    "labels = epochs.events[:, -1]\n",
    "y = le.fit_transform(labels)\n",
    "X = epochs.get_data()\n",
    "\n",
    "# CSP\n",
    "csp = CSP(n_components=20, norm_trace=False)\n",
    "X_out = csp.fit_transform(X,y)"
   ]
  },
  {
   "cell_type": "code",
   "execution_count": 39,
   "metadata": {},
   "outputs": [],
   "source": [
    "from sklearn.model_selection import train_test_split\n",
    "from sklearn.preprocessing import StandardScaler\n",
    "X = X_out.reshape((X_out.shape[0],-1))\n",
    "scaler = StandardScaler()\n",
    "X = scaler.fit_transform(X)\n",
    "X_train, X_test, y_train, y_test = train_test_split(X, y, test_size=0.25, random_state = 0, stratify = y)"
   ]
  },
  {
   "cell_type": "code",
   "execution_count": 40,
   "metadata": {},
   "outputs": [
    {
     "data": {
      "image/png": "[encoded data removed]",
      "text/plain": [
       "<Figure size 640x480 with 2 Axes>"
      ]
     },
     "metadata": {},
     "output_type": "display_data"
    }
   ],
   "source": [
    "%matplotlib inline\n",
    "plt.subplot(1,2,1)\n",
    "plt.title(\"Train\")\n",
    "plt.scatter(X_train[:,0],X_train[:,1],c=y_train,cmap='rainbow',alpha=0.7,edgecolors='b')\n",
    "\n",
    "plt.subplot(1,2,2)\n",
    "plt.title(\"Test\")\n",
    "plt.scatter(X_test[:,0],X_test[:,1],c=y_test,cmap='rainbow',alpha=0.7,edgecolors='b')\n",
    "\n",
    "plt.show()"
   ]
  },
  {
   "attachments": {},
   "cell_type": "markdown",
   "metadata": {},
   "source": [
    "### **Classification Model**"
   ]
  },
  {
   "cell_type": "code",
   "execution_count": 41,
   "metadata": {},
   "outputs": [],
   "source": [
    "from sklearn.ensemble import RandomForestClassifier\n",
    "from sklearn.model_selection import GridSearchCV\n",
    "from sklearn.metrics import *\n",
    "from sklearn.tree import DecisionTreeClassifier\n",
    "from sklearn.svm import SVC\n",
    "from sklearn.naive_bayes import GaussianNB\n",
    "from sklearn.linear_model import LogisticRegression\n",
    "import pandas as pd\n",
    "import time\n",
    "import seaborn as sns"
   ]
  },
  {
   "attachments": {},
   "cell_type": "markdown",
   "metadata": {},
   "source": [
    "#### GridSearchCV"
   ]
  },
  {
   "cell_type": "code",
   "execution_count": 42,
   "metadata": {},
   "outputs": [],
   "source": [
    "def gridsearchCV(estimator,features_,):\n",
    "    gridSearchModel = GridSearchCV(estimator = estimator,\n",
    "                                   param_grid = features_,\n",
    "                                   verbose = 2,\n",
    "                                   cv=4,\n",
    "                                   n_jobs=-1,\n",
    "                                   scoring=\"accuracy\")\n",
    "    return gridSearchModel"
   ]
  },
  {
   "attachments": {},
   "cell_type": "markdown",
   "metadata": {},
   "source": [
    "#### RandomForest Classifier"
   ]
  },
  {
   "cell_type": "code",
   "execution_count": 43,
   "metadata": {},
   "outputs": [],
   "source": [
    "def randomForest_():\n",
    "    randomForestmodel = RandomForestClassifier(criterion=\"gini\",\n",
    "                                               random_state=0,\n",
    "                                               n_jobs=-1,\n",
    "                                               oob_score=True)\n",
    "    features = dict(max_depth= [2,3,5,10,20],\n",
    "    min_samples_leaf= [5,10,20,50,100,200],\n",
    "    n_estimators= [10,25,30,50,100,200])\n",
    "    model = gridsearchCV(randomForestmodel,features)\n",
    "    return model"
   ]
  },
  {
   "attachments": {},
   "cell_type": "markdown",
   "metadata": {},
   "source": [
    "#### Logistic Regression"
   ]
  },
  {
   "cell_type": "code",
   "execution_count": 44,
   "metadata": {},
   "outputs": [],
   "source": [
    "def logistic():\n",
    "    Logisticmodel = LogisticRegression(max_iter=1000)\n",
    "    features_ = dict(C = [0.001,0.01,0.1,1,10,100],\n",
    "                     solver = ['lbfgs', 'liblinear', 'newton-cg', 'sag', 'saga'])\n",
    "    model = gridsearchCV(Logisticmodel,features_)\n",
    "    return model"
   ]
  },
  {
   "attachments": {},
   "cell_type": "markdown",
   "metadata": {},
   "source": [
    "#### Decision Tree Classifier"
   ]
  },
  {
   "cell_type": "code",
   "execution_count": 45,
   "metadata": {},
   "outputs": [],
   "source": [
    "def tree():\n",
    "    # Making prediction with Decision Tree Classifier\n",
    "    dtc = DecisionTreeClassifier(random_state=0)\n",
    "    features_ = dict(criterion = [\"gini\",\"entropy\",\"log_loss\"],\n",
    "                     max_depth= [2,3,5,10,20],\n",
    "                    min_samples_leaf= [5,10,20,50,100,200])\n",
    "    model = gridsearchCV(dtc,features_)\n",
    "    return model"
   ]
  },
  {
   "attachments": {},
   "cell_type": "markdown",
   "metadata": {},
   "source": [
    "#### Support Vector Classifier"
   ]
  },
  {
   "cell_type": "code",
   "execution_count": 46,
   "metadata": {},
   "outputs": [],
   "source": [
    "def svm():\n",
    "    svmmodel = SVC(random_state=0)\n",
    "    features_ = dict(C = [0.001,0.01,0.1,1,10,100],\n",
    "                     kernel=['linear', 'poly', 'rbf', 'sigmoid'])\n",
    "    model = gridsearchCV(svmmodel,features_)\n",
    "    return model"
   ]
  },
  {
   "attachments": {},
   "cell_type": "markdown",
   "metadata": {},
   "source": [
    "#### Guassian Nave Baye's"
   ]
  },
  {
   "cell_type": "code",
   "execution_count": 47,
   "metadata": {},
   "outputs": [],
   "source": [
    "def naive():\n",
    "    gnb = GaussianNB()\n",
    "    return gnb"
   ]
  },
  {
   "attachments": {},
   "cell_type": "markdown",
   "metadata": {},
   "source": [
    "#### XGBoost"
   ]
  },
  {
   "cell_type": "code",
   "execution_count": 48,
   "metadata": {},
   "outputs": [],
   "source": [
    "from xgboost import XGBClassifier\n",
    "def XGB():\n",
    "  params = {\n",
    "        'min_child_weight': [1, 5, 10],\n",
    "        'gamma': [0.5, 1, 1.5, 2, 5],\n",
    "        'subsample': [0.6, 0.8, 1.0],\n",
    "        'colsample_bytree': [0.6, 0.8, 1.0],\n",
    "        'max_depth': [3, 4, 5]\n",
    "        }\n",
    "  xgbmodel = XGBClassifier(n_estimators=10,\n",
    "                        early_stopping_rounds=50,\n",
    "                        max_depth=6,\n",
    "                        booster=\"gbtree\")\n",
    "  model = gridsearchCV(xgbmodel,params)\n",
    "  return model"
   ]
  },
  {
   "attachments": {},
   "cell_type": "markdown",
   "metadata": {},
   "source": [
    "#### Linear Discriminant Analysis"
   ]
  },
  {
   "cell_type": "code",
   "execution_count": 49,
   "metadata": {},
   "outputs": [],
   "source": [
    "from sklearn.discriminant_analysis import LinearDiscriminantAnalysis\n",
    "def LDA():\n",
    "    params = {\n",
    "        \"solver\" : [\"svd\", \"lsqr\", \"eigen\"],\n",
    "        \"n_components\" : [1],\n",
    "        \"store_covariance\" : [True, False],\n",
    "        \"tol\" : [0.0001, 0.001, 0.01, 0.1],\n",
    "    }\n",
    "\n",
    "    ldamodel = LinearDiscriminantAnalysis()\n",
    "    model = gridsearchCV(ldamodel,params)\n",
    "    return model\n"
   ]
  },
  {
   "attachments": {},
   "cell_type": "markdown",
   "metadata": {},
   "source": [
    "#### KNN"
   ]
  },
  {
   "cell_type": "code",
   "execution_count": 50,
   "metadata": {},
   "outputs": [],
   "source": [
    "from sklearn.neighbors import KNeighborsClassifier\n",
    "def KNN():\n",
    "    knn = KNeighborsClassifier()\n",
    "    k_range = list(range(1, 31))\n",
    "    param_grid = dict(n_neighbors=k_range)\n",
    "    model = gridsearchCV(knn,param_grid)\n",
    "    return model"
   ]
  },
  {
   "attachments": {},
   "cell_type": "markdown",
   "metadata": {},
   "source": [
    "#### AdaBoost"
   ]
  },
  {
   "cell_type": "code",
   "execution_count": 51,
   "metadata": {},
   "outputs": [],
   "source": [
    "from sklearn.ensemble import AdaBoostClassifier\n",
    "def ada():\n",
    "    param_grid = {\"base_estimator__criterion\" : [\"gini\", \"entropy\"],\n",
    "              \"base_estimator__splitter\" :   [\"best\", \"random\"],\n",
    "              \"n_estimators\": [1, 2, 5, 10, 15]\n",
    "             }\n",
    "\n",
    "\n",
    "    DTC = DecisionTreeClassifier(random_state = 0, class_weight = \"balanced\",max_depth = None)\n",
    "    ABC = AdaBoostClassifier(base_estimator = DTC)\n",
    "    model = gridsearchCV(ABC,param_grid)\n",
    "    return model"
   ]
  },
  {
   "attachments": {},
   "cell_type": "markdown",
   "metadata": {},
   "source": [
    "#### Neural Networks"
   ]
  },
  {
   "cell_type": "code",
   "execution_count": 52,
   "metadata": {},
   "outputs": [],
   "source": [
    "from tensorflow.python.keras import Input\n",
    "from tensorflow.python.keras.models import Sequential\n",
    "from tensorflow.python.keras.layers import Dense, Dropout, Conv2D, MaxPooling2D, Flatten\n",
    "def ner():\n",
    "    model = Sequential()\n",
    "    model.add(Input(shape=(X_train.shape[1],)))\n",
    "    model.add(Dense(200, activation='relu'))\n",
    "    model.add(Dropout(rate=0.2))\n",
    "    model.add(Dense(100, activation='relu'))\n",
    "    model.add(Dropout(rate=0.2))\n",
    "    model.compile(optimizer = 'adam',loss='sparse_categorical_crossentropy',metrics =['accuracy'])\n",
    "\n",
    "    return model"
   ]
  },
  {
   "attachments": {},
   "cell_type": "markdown",
   "metadata": {},
   "source": [
    "#### Accuracy and F1 Score"
   ]
  },
  {
   "cell_type": "code",
   "execution_count": 53,
   "metadata": {},
   "outputs": [],
   "source": [
    "def analysis(model,X_test,y_test):\n",
    "    return f1_score(y_test,model.predict(X_test)), accuracy_score(y_test,model.predict(X_test))"
   ]
  },
  {
   "attachments": {},
   "cell_type": "markdown",
   "metadata": {},
   "source": [
    "#### ROC and AUC Curve"
   ]
  },
  {
   "cell_type": "code",
   "execution_count": 54,
   "metadata": {},
   "outputs": [],
   "source": [
    "def auc_(model,X_test,y_test):\n",
    "    return roc_auc_score(y_test,model.predict(X_test))"
   ]
  },
  {
   "attachments": {},
   "cell_type": "markdown",
   "metadata": {},
   "source": [
    "#### Predictive Models"
   ]
  },
  {
   "cell_type": "code",
   "execution_count": 55,
   "metadata": {},
   "outputs": [],
   "source": [
    "# Creating a dataframe for various results\n",
    "result_ = pd.DataFrame(columns=[\"model\",\"f1Score\",\"accuracy\",\"training score\",\"auc\",\"time\"])\n",
    "\n",
    "def result(model,f1_score,accuracy,trainingScore ,auc, time):\n",
    "    \"\"\"This function creates a dataframe of all the information\"\"\"\n",
    "    result_.loc[len(result_.index)] = [model,f1_score,accuracy,trainingScore,auc,time]"
   ]
  },
  {
   "cell_type": "code",
   "execution_count": 56,
   "metadata": {},
   "outputs": [],
   "source": [
    "def predictiveModels():\n",
    "        \"\"\"t0 and t1 are for capturing the training time\"\"\"\n",
    "# LOGISTIC REGRESSION\n",
    "        t0 = time.time()\n",
    "        logisticModel = logistic().fit(X_train,y_train) # Calling the logistic function to return logistic model\n",
    "        t1 = time.time()-t0\n",
    "        print(f\"➡️Best model params for Logistic Regression --> {logisticModel.best_params_}\")\n",
    "        # trs_L = Training score for logistic regression \n",
    "        trs_L = logisticModel.score(X_train,y_train)\n",
    "        f1_score_logistic, accuracy_logistic = analysis(logisticModel,X_test,y_test)\n",
    "        acu_Logistic = auc_(logisticModel,X_test,y_test)\n",
    "        result(\"LogisticRegression\",f1_score_logistic,accuracy_logistic,trs_L,acu_Logistic,t1) # Creating a dataframe for the model\n",
    "        \n",
    "# DECISION TREE\n",
    "        t0 = time.time()\n",
    "        treeModel = tree().fit(X_train,y_train)\n",
    "        t1 = time.time()-t0\n",
    "\n",
    "        print(f\"➡️Best model params for Decision Tree --> {treeModel.best_params_}\")\n",
    "        trs_T = treeModel.score(X_train,y_train)\n",
    "        f1_score_tree, accuracy_tree = analysis(treeModel,X_test,y_test)\n",
    "        acu_decision_tree = auc_(treeModel,X_test,y_test)\n",
    "        result(\"Decison Tree\",f1_score_tree,accuracy_tree,trs_T,f1_score_tree,t1)\n",
    "\n",
    "# SUPPORT VECTOR MACHINE\n",
    "        t0 = time.time()\n",
    "\n",
    "        svmModel = svm().fit(X_train,y_train)\n",
    "        t1 = time.time()-t0\n",
    "\n",
    "        print(f\"➡️Best model params for Support Vector Machines --> {svmModel.best_params_}\")\n",
    "        trs_S = svmModel.score(X_train,y_train)\n",
    "        f1_score_svm, accuracy_svm = analysis(svmModel,X_test,y_test)\n",
    "        acu_svm = auc_(svmModel,X_test,y_test)\n",
    "        result(\"SVM\",f1_score_svm,accuracy_svm, trs_S,acu_svm,t1) # Creating a dataframe for the model\n",
    "\n",
    "#RANDOM FOREST\n",
    "        t0 = time.time()\n",
    "\n",
    "        randomForestModel = randomForest_().fit(X_train,y_train)\n",
    "        t1 = time.time()-t0\n",
    "\n",
    "        print(f\"➡️Best model params for Random Forest Classifier --> {randomForestModel.best_params_}\")\n",
    "        trs_R = randomForestModel.score(X_train,y_train)\n",
    "        f1_score_random, accuracy_random = analysis(randomForestModel,X_test,y_test)\n",
    "        acu_random_forest = auc_(randomForestModel,X_test,y_test)\n",
    "        result(\"Random Forest\",f1_score_random,accuracy_random,trs_R,acu_random_forest,t1)\n",
    "\n",
    "#NAIVE BAYES\n",
    "        t0 = time.time()\n",
    "\n",
    "        naiveModel = naive().fit(X_train,y_train)\n",
    "        t1 = time.time()-t0\n",
    "\n",
    "        trs_N = naiveModel.score(X_train,y_train)\n",
    "        f1_score_naive, accuracy_naive = analysis(naiveModel,X_test,y_test)\n",
    "        acu_naive = auc_(naiveModel,X_test,y_test)\n",
    "        result(\"Naive Bayes\",f1_score_naive,accuracy_naive,trs_N,acu_naive,t1)\n",
    "\n",
    "#XGBOOST\n",
    "        t0 = time.time()\n",
    "\n",
    "        xgbModel = XGB().fit(X_train,y_train, eval_set=[(X_train,y_train),(X_test,y_test)], verbose=10)\n",
    "        t1 = time.time()-t0\n",
    "\n",
    "        print(f\"➡️Best model params for XGBoost --> {xgbModel.best_params_}\")\n",
    "        trs_X = xgbModel.score(X_train,y_train)\n",
    "        f1_score_xgb, accuracy_xgb = analysis(xgbModel,X_test,y_test)\n",
    "        acu_xgb = auc_(xgbModel,X_test,y_test)\n",
    "        result(\"XGBoost\",f1_score_xgb,accuracy_xgb,trs_X,acu_xgb,t1)\n",
    "\n",
    "#LDA\n",
    "        t0 = time.time()\n",
    "        ldaModel = LDA().fit(X_train,y_train)\n",
    "        t1 = time.time()-t0\n",
    "\n",
    "        print(f\"➡️Best model params for LDA --> {ldaModel.best_params_}\")\n",
    "        trs_LDA = ldaModel.score(X_train,y_train)\n",
    "        f1_score_lda, accuracy_lda = analysis(ldaModel,X_test,y_test)\n",
    "        acu_lda = auc_(ldaModel,X_test,y_test)\n",
    "        result(\"LDA\",f1_score_lda,accuracy_lda,trs_LDA,acu_lda,t1)\n",
    "\n",
    "#KNN\n",
    "        t0 = time.time()\n",
    "        knnModel = KNN().fit(X_train,y_train)\n",
    "        t1 = time.time()-t0\n",
    "\n",
    "        print(f\"➡️Best model params for KNN --> {knnModel.best_params_}\")\n",
    "        trs_KNN = knnModel.score(X_train,y_train)\n",
    "        f1_score_knn, accuracy_knn = analysis(knnModel,X_test,y_test)\n",
    "        acu_knn = auc_(knnModel,X_test,y_test)\n",
    "        result(\"KNN\",f1_score_knn,accuracy_knn,trs_KNN,acu_knn,t1)\n",
    "\n",
    "#ADABOOST\n",
    "        t0 = time.time()\n",
    "        adaModel = ada().fit(X_train,y_train)\n",
    "        t1 = time.time()-t0\n",
    "        \n",
    "        print(f\"➡️Best model params for AdaBoost --> {adaModel.best_params_}\")\n",
    "        trs_ADA = adaModel.score(X_train,y_train)\n",
    "        f1_score_ada, accuracy_ada = analysis(adaModel,X_test,y_test)\n",
    "        acu_ada = auc_(adaModel,X_test,y_test)\n",
    "        result(\"AdaBoost\",f1_score_ada,accuracy_ada,trs_ADA,acu_ada,t1)\n",
    "\n",
    "#NEURALNETWORK\n",
    "        t0 = time.time()\n",
    "        neuModel = ner()\n",
    "        history = neuModel.fit(X_train, y_train, epochs = 100, validation_data = (X_test, y_test))\n",
    "        t1 = time.time() - t0\n",
    "\n",
    "        trs_neu = accuracy_score(y_train, neuModel.predict_classes(X_train, verbose=0))\n",
    "        f1_score_neu, accuracy_neu = f1_score(y_test, neuModel.predict_classes(X_test, verbose=0)), accuracy_score(y_test, neuModel.predict_classes(X_test, verbose=0))\n",
    "        acu_neu = roc_auc_score(y_test, neuModel.predict_classes(X_test, verbose=0))\n",
    "        result(\"Neural Netwrok\",f1_score_neu,accuracy_neu,trs_neu,acu_neu,t1)"
   ]
  },
  {
   "cell_type": "code",
   "execution_count": 57,
   "metadata": {},
   "outputs": [
    {
     "name": "stdout",
     "output_type": "stream",
     "text": [
      "Fitting 4 folds for each of 30 candidates, totalling 120 fits\n",
      "➡️Best model params for Logistic Regression --> {'C': 10, 'solver': 'liblinear'}\n",
      "Fitting 4 folds for each of 90 candidates, totalling 360 fits\n",
      "➡️Best model params for Decision Tree --> {'criterion': 'gini', 'max_depth': 2, 'min_samples_leaf': 10}\n",
      "Fitting 4 folds for each of 24 candidates, totalling 96 fits\n",
      "➡️Best model params for Support Vector Machines --> {'C': 1, 'kernel': 'linear'}\n",
      "Fitting 4 folds for each of 180 candidates, totalling 720 fits\n",
      "➡️Best model params for Random Forest Classifier --> {'max_depth': 2, 'min_samples_leaf': 5, 'n_estimators': 25}\n",
      "Fitting 4 folds for each of 405 candidates, totalling 1620 fits\n",
      "[0]\tvalidation_0-logloss:0.56350\tvalidation_1-logloss:0.63763\n",
      "[9]\tvalidation_0-logloss:0.18089\tvalidation_1-logloss:0.42592\n",
      "➡️Best model params for XGBoost --> {'colsample_bytree': 0.6, 'gamma': 0.5, 'max_depth': 3, 'min_child_weight': 1, 'subsample': 1.0}\n",
      "Fitting 4 folds for each of 24 candidates, totalling 96 fits\n",
      "➡️Best model params for LDA --> {'n_components': 1, 'solver': 'svd', 'store_covariance': True, 'tol': 0.1}\n",
      "Fitting 4 folds for each of 30 candidates, totalling 120 fits\n"
     ]
    },
    {
     "name": "stderr",
     "output_type": "stream",
     "text": [
      "c:\\Users\\sit\\AppData\\Local\\Programs\\Python\\Python311\\Lib\\site-packages\\sklearn\\model_selection\\_search.py:976: UserWarning: One or more of the test scores are non-finite: [0.69791667 0.72916667 0.79166667 0.79166667 0.79166667 0.79166667\n",
      " 0.73263889 0.78819444 0.67708333 0.73263889 0.64583333 0.64583333\n",
      " 0.64583333 0.70486111 0.64583333 0.64583333 0.64583333 0.64583333\n",
      " 0.64583333 0.64583333 0.64583333 0.64583333 0.64583333 0.64583333\n",
      " 0.64583333        nan        nan        nan        nan        nan]\n",
      "  warnings.warn(\n"
     ]
    },
    {
     "name": "stdout",
     "output_type": "stream",
     "text": [
      "➡️Best model params for KNN --> {'n_neighbors': 3}\n",
      "Fitting 4 folds for each of 20 candidates, totalling 80 fits\n",
      "➡️Best model params for AdaBoost --> {'base_estimator__criterion': 'gini', 'base_estimator__splitter': 'best', 'n_estimators': 2}\n",
      "WARNING:tensorflow:Please add `keras.layers.InputLayer` instead of `keras.Input` to Sequential model. `keras.Input` is intended to be used by Functional model.\n"
     ]
    },
    {
     "name": "stderr",
     "output_type": "stream",
     "text": [
      "c:\\Users\\sit\\AppData\\Local\\Programs\\Python\\Python311\\Lib\\site-packages\\sklearn\\ensemble\\_base.py:156: FutureWarning: `base_estimator` was renamed to `estimator` in version 1.2 and will be removed in 1.4.\n",
      "  warnings.warn(\n"
     ]
    },
    {
     "name": "stdout",
     "output_type": "stream",
     "text": [
      "Epoch 1/100\n",
      "2/2 [==============================] - 1s 239ms/step - loss: 15.0480 - accuracy: 0.0000e+00 - val_loss: 10.9147 - val_accuracy: 0.0000e+00\n",
      "Epoch 2/100\n",
      "2/2 [==============================] - 0s 48ms/step - loss: 12.6768 - accuracy: 0.0000e+00 - val_loss: 10.3951 - val_accuracy: 0.0000e+00\n",
      "Epoch 3/100\n",
      "2/2 [==============================] - 0s 43ms/step - loss: 11.4951 - accuracy: 0.0000e+00 - val_loss: 8.1325 - val_accuracy: 0.0833\n",
      "Epoch 4/100\n",
      "2/2 [==============================] - 0s 41ms/step - loss: 10.0009 - accuracy: 0.0882 - val_loss: 6.3547 - val_accuracy: 0.3333\n",
      "Epoch 5/100\n",
      "2/2 [==============================] - 0s 38ms/step - loss: 8.7301 - accuracy: 0.0588 - val_loss: 4.8870 - val_accuracy: 0.4167\n",
      "Epoch 6/100\n",
      "2/2 [==============================] - 0s 44ms/step - loss: 9.3207 - accuracy: 0.2059 - val_loss: 4.4369 - val_accuracy: 0.4167\n",
      "Epoch 7/100\n",
      "2/2 [==============================] - 0s 41ms/step - loss: 7.9118 - accuracy: 0.2353 - val_loss: 3.1467 - val_accuracy: 0.5833\n",
      "Epoch 8/100\n",
      "2/2 [==============================] - 0s 40ms/step - loss: 7.6152 - accuracy: 0.2941 - val_loss: 2.7172 - val_accuracy: 0.5833\n",
      "Epoch 9/100\n",
      "2/2 [==============================] - 0s 38ms/step - loss: 6.5066 - accuracy: 0.4412 - val_loss: 2.4260 - val_accuracy: 0.6667\n",
      "Epoch 10/100\n",
      "2/2 [==============================] - 0s 36ms/step - loss: 4.5092 - accuracy: 0.5294 - val_loss: 1.0840 - val_accuracy: 0.7500\n",
      "Epoch 11/100\n",
      "2/2 [==============================] - 0s 43ms/step - loss: 4.8285 - accuracy: 0.5588 - val_loss: 0.8303 - val_accuracy: 0.7500\n",
      "Epoch 12/100\n",
      "2/2 [==============================] - 0s 40ms/step - loss: 4.4190 - accuracy: 0.6176 - val_loss: 0.6785 - val_accuracy: 0.7500\n",
      "Epoch 13/100\n",
      "2/2 [==============================] - 0s 46ms/step - loss: 5.9968 - accuracy: 0.5294 - val_loss: 0.5720 - val_accuracy: 0.7500\n",
      "Epoch 14/100\n",
      "2/2 [==============================] - 0s 42ms/step - loss: 5.1018 - accuracy: 0.6765 - val_loss: 0.4986 - val_accuracy: 0.7500\n",
      "Epoch 15/100\n",
      "2/2 [==============================] - 0s 39ms/step - loss: 3.2871 - accuracy: 0.6471 - val_loss: 0.4492 - val_accuracy: 0.7500\n",
      "Epoch 16/100\n",
      "2/2 [==============================] - 0s 40ms/step - loss: 2.8971 - accuracy: 0.7647 - val_loss: 0.4051 - val_accuracy: 0.7500\n",
      "Epoch 17/100\n",
      "2/2 [==============================] - 0s 48ms/step - loss: 3.1824 - accuracy: 0.7353 - val_loss: 0.3759 - val_accuracy: 0.7500\n",
      "Epoch 18/100\n",
      "2/2 [==============================] - 0s 39ms/step - loss: 3.4510 - accuracy: 0.7059 - val_loss: 0.3635 - val_accuracy: 0.7500\n",
      "Epoch 19/100\n",
      "2/2 [==============================] - 0s 42ms/step - loss: 2.8053 - accuracy: 0.7941 - val_loss: 0.3569 - val_accuracy: 0.8333\n",
      "Epoch 20/100\n",
      "2/2 [==============================] - 0s 43ms/step - loss: 3.1142 - accuracy: 0.6471 - val_loss: 0.3515 - val_accuracy: 0.8333\n",
      "Epoch 21/100\n",
      "2/2 [==============================] - 0s 42ms/step - loss: 1.9396 - accuracy: 0.7059 - val_loss: 0.3462 - val_accuracy: 0.8333\n",
      "Epoch 22/100\n",
      "2/2 [==============================] - 0s 38ms/step - loss: 3.7006 - accuracy: 0.6471 - val_loss: 0.3407 - val_accuracy: 0.8333\n",
      "Epoch 23/100\n",
      "2/2 [==============================] - 0s 42ms/step - loss: 3.8527 - accuracy: 0.7059 - val_loss: 0.3366 - val_accuracy: 0.8333\n",
      "Epoch 24/100\n",
      "2/2 [==============================] - 0s 47ms/step - loss: 4.2602 - accuracy: 0.6471 - val_loss: 0.3335 - val_accuracy: 0.8333\n",
      "Epoch 25/100\n",
      "2/2 [==============================] - 0s 41ms/step - loss: 1.5071 - accuracy: 0.7941 - val_loss: 0.3330 - val_accuracy: 0.8333\n",
      "Epoch 26/100\n",
      "2/2 [==============================] - 0s 37ms/step - loss: 2.5635 - accuracy: 0.7647 - val_loss: 0.3324 - val_accuracy: 0.8333\n",
      "Epoch 27/100\n",
      "2/2 [==============================] - 0s 37ms/step - loss: 2.2104 - accuracy: 0.7647 - val_loss: 0.3295 - val_accuracy: 0.8333\n",
      "Epoch 28/100\n",
      "2/2 [==============================] - 0s 38ms/step - loss: 1.7303 - accuracy: 0.7941 - val_loss: 0.3265 - val_accuracy: 0.8333\n",
      "Epoch 29/100\n",
      "2/2 [==============================] - 0s 43ms/step - loss: 3.6061 - accuracy: 0.6765 - val_loss: 0.3243 - val_accuracy: 0.8333\n",
      "Epoch 30/100\n",
      "2/2 [==============================] - 0s 36ms/step - loss: 1.6002 - accuracy: 0.8529 - val_loss: 0.3225 - val_accuracy: 0.7500\n",
      "Epoch 31/100\n",
      "2/2 [==============================] - 0s 40ms/step - loss: 1.7107 - accuracy: 0.7647 - val_loss: 0.3205 - val_accuracy: 0.7500\n",
      "Epoch 32/100\n",
      "2/2 [==============================] - 0s 38ms/step - loss: 0.6223 - accuracy: 0.8824 - val_loss: 0.3180 - val_accuracy: 0.7500\n",
      "Epoch 33/100\n",
      "2/2 [==============================] - 0s 47ms/step - loss: 3.0441 - accuracy: 0.6176 - val_loss: 0.3157 - val_accuracy: 0.7500\n",
      "Epoch 34/100\n",
      "2/2 [==============================] - 0s 42ms/step - loss: 2.1084 - accuracy: 0.7647 - val_loss: 0.3152 - val_accuracy: 0.7500\n",
      "Epoch 35/100\n",
      "2/2 [==============================] - 0s 43ms/step - loss: 2.9761 - accuracy: 0.7059 - val_loss: 0.3172 - val_accuracy: 0.7500\n",
      "Epoch 36/100\n",
      "2/2 [==============================] - 0s 54ms/step - loss: 1.5565 - accuracy: 0.8235 - val_loss: 0.3186 - val_accuracy: 0.7500\n",
      "Epoch 37/100\n",
      "2/2 [==============================] - 0s 42ms/step - loss: 2.2327 - accuracy: 0.7647 - val_loss: 0.3213 - val_accuracy: 0.7500\n",
      "Epoch 38/100\n",
      "2/2 [==============================] - 0s 40ms/step - loss: 2.1280 - accuracy: 0.7647 - val_loss: 0.3243 - val_accuracy: 0.7500\n",
      "Epoch 39/100\n",
      "2/2 [==============================] - 0s 45ms/step - loss: 1.7429 - accuracy: 0.7353 - val_loss: 0.3274 - val_accuracy: 0.7500\n",
      "Epoch 40/100\n",
      "2/2 [==============================] - 0s 49ms/step - loss: 2.0679 - accuracy: 0.7647 - val_loss: 0.3310 - val_accuracy: 0.8333\n",
      "Epoch 41/100\n",
      "2/2 [==============================] - 0s 37ms/step - loss: 2.0306 - accuracy: 0.7941 - val_loss: 0.3414 - val_accuracy: 0.8333\n",
      "Epoch 42/100\n",
      "2/2 [==============================] - 0s 44ms/step - loss: 1.5224 - accuracy: 0.8235 - val_loss: 0.3521 - val_accuracy: 0.8333\n",
      "Epoch 43/100\n",
      "2/2 [==============================] - 0s 43ms/step - loss: 0.8178 - accuracy: 0.9118 - val_loss: 0.3619 - val_accuracy: 0.8333\n",
      "Epoch 44/100\n",
      "2/2 [==============================] - 0s 42ms/step - loss: 0.9322 - accuracy: 0.7941 - val_loss: 0.3697 - val_accuracy: 0.8333\n",
      "Epoch 45/100\n",
      "2/2 [==============================] - 0s 43ms/step - loss: 0.5570 - accuracy: 0.8529 - val_loss: 0.3744 - val_accuracy: 0.8333\n",
      "Epoch 46/100\n",
      "2/2 [==============================] - 0s 57ms/step - loss: 1.1171 - accuracy: 0.8235 - val_loss: 0.3764 - val_accuracy: 0.8333\n",
      "Epoch 47/100\n",
      "2/2 [==============================] - 0s 42ms/step - loss: 1.2414 - accuracy: 0.8529 - val_loss: 0.3681 - val_accuracy: 0.7500\n",
      "Epoch 48/100\n",
      "2/2 [==============================] - 0s 42ms/step - loss: 2.1096 - accuracy: 0.7941 - val_loss: 0.3665 - val_accuracy: 0.7500\n",
      "Epoch 49/100\n",
      "2/2 [==============================] - 0s 42ms/step - loss: 1.1922 - accuracy: 0.7059 - val_loss: 0.3691 - val_accuracy: 0.7500\n",
      "Epoch 50/100\n",
      "2/2 [==============================] - 0s 50ms/step - loss: 1.4671 - accuracy: 0.6765 - val_loss: 0.3790 - val_accuracy: 0.7500\n",
      "Epoch 51/100\n",
      "2/2 [==============================] - 0s 57ms/step - loss: 0.8735 - accuracy: 0.9118 - val_loss: 0.3931 - val_accuracy: 0.7500\n",
      "Epoch 52/100\n",
      "2/2 [==============================] - 0s 58ms/step - loss: 2.0082 - accuracy: 0.7941 - val_loss: 0.4109 - val_accuracy: 0.7500\n",
      "Epoch 53/100\n",
      "2/2 [==============================] - 0s 52ms/step - loss: 1.8641 - accuracy: 0.8235 - val_loss: 0.4429 - val_accuracy: 0.7500\n",
      "Epoch 54/100\n",
      "2/2 [==============================] - 0s 47ms/step - loss: 0.7524 - accuracy: 0.8529 - val_loss: 0.4705 - val_accuracy: 0.7500\n",
      "Epoch 55/100\n",
      "2/2 [==============================] - 0s 39ms/step - loss: 2.0341 - accuracy: 0.8235 - val_loss: 0.4820 - val_accuracy: 0.7500\n",
      "Epoch 56/100\n",
      "2/2 [==============================] - 0s 43ms/step - loss: 1.7868 - accuracy: 0.7059 - val_loss: 0.4833 - val_accuracy: 0.7500\n",
      "Epoch 57/100\n",
      "2/2 [==============================] - 0s 44ms/step - loss: 1.6851 - accuracy: 0.8824 - val_loss: 0.4538 - val_accuracy: 0.7500\n",
      "Epoch 58/100\n",
      "2/2 [==============================] - 0s 57ms/step - loss: 1.7472 - accuracy: 0.8529 - val_loss: 0.4294 - val_accuracy: 0.7500\n",
      "Epoch 59/100\n",
      "2/2 [==============================] - 0s 56ms/step - loss: 1.5177 - accuracy: 0.7647 - val_loss: 0.4200 - val_accuracy: 0.7500\n",
      "Epoch 60/100\n",
      "2/2 [==============================] - 0s 39ms/step - loss: 1.1606 - accuracy: 0.8824 - val_loss: 0.4010 - val_accuracy: 0.7500\n",
      "Epoch 61/100\n",
      "2/2 [==============================] - 0s 42ms/step - loss: 1.6093 - accuracy: 0.8235 - val_loss: 0.3532 - val_accuracy: 0.7500\n",
      "Epoch 62/100\n",
      "2/2 [==============================] - 0s 36ms/step - loss: 0.8902 - accuracy: 0.8824 - val_loss: 0.2431 - val_accuracy: 0.8333\n",
      "Epoch 63/100\n",
      "2/2 [==============================] - 0s 58ms/step - loss: 0.8186 - accuracy: 0.8824 - val_loss: 0.2487 - val_accuracy: 0.8333\n",
      "Epoch 64/100\n",
      "2/2 [==============================] - 0s 61ms/step - loss: 1.1989 - accuracy: 0.7941 - val_loss: 0.2529 - val_accuracy: 0.8333\n",
      "Epoch 65/100\n",
      "2/2 [==============================] - 0s 48ms/step - loss: 0.8729 - accuracy: 0.8529 - val_loss: 0.2551 - val_accuracy: 0.8333\n",
      "Epoch 66/100\n",
      "2/2 [==============================] - 0s 38ms/step - loss: 1.5623 - accuracy: 0.7647 - val_loss: 0.2562 - val_accuracy: 0.8333\n",
      "Epoch 67/100\n",
      "2/2 [==============================] - 0s 43ms/step - loss: 1.1012 - accuracy: 0.8529 - val_loss: 0.2579 - val_accuracy: 0.8333\n",
      "Epoch 68/100\n",
      "2/2 [==============================] - 0s 42ms/step - loss: 1.0546 - accuracy: 0.8529 - val_loss: 0.2587 - val_accuracy: 0.8333\n",
      "Epoch 69/100\n",
      "2/2 [==============================] - 0s 58ms/step - loss: 1.2275 - accuracy: 0.7647 - val_loss: 0.6372 - val_accuracy: 0.7500\n",
      "Epoch 70/100\n",
      "2/2 [==============================] - 0s 42ms/step - loss: 1.2555 - accuracy: 0.8529 - val_loss: 0.6314 - val_accuracy: 0.7500\n",
      "Epoch 71/100\n",
      "2/2 [==============================] - 0s 40ms/step - loss: 1.5364 - accuracy: 0.7941 - val_loss: 0.6266 - val_accuracy: 0.7500\n",
      "Epoch 72/100\n",
      "2/2 [==============================] - 0s 44ms/step - loss: 2.1980 - accuracy: 0.7647 - val_loss: 0.6249 - val_accuracy: 0.7500\n",
      "Epoch 73/100\n",
      "2/2 [==============================] - 0s 44ms/step - loss: 2.1935 - accuracy: 0.7941 - val_loss: 0.6343 - val_accuracy: 0.7500\n",
      "Epoch 74/100\n",
      "2/2 [==============================] - 0s 78ms/step - loss: 0.9609 - accuracy: 0.8529 - val_loss: 0.6434 - val_accuracy: 0.7500\n",
      "Epoch 75/100\n",
      "2/2 [==============================] - 0s 43ms/step - loss: 1.3966 - accuracy: 0.8235 - val_loss: 0.6648 - val_accuracy: 0.7500\n",
      "Epoch 76/100\n",
      "2/2 [==============================] - 0s 36ms/step - loss: 1.3586 - accuracy: 0.8824 - val_loss: 0.7069 - val_accuracy: 0.7500\n",
      "Epoch 77/100\n",
      "2/2 [==============================] - 0s 38ms/step - loss: 1.0237 - accuracy: 0.8529 - val_loss: 0.7414 - val_accuracy: 0.7500\n",
      "Epoch 78/100\n",
      "2/2 [==============================] - 0s 46ms/step - loss: 1.2515 - accuracy: 0.7941 - val_loss: 0.7806 - val_accuracy: 0.7500\n",
      "Epoch 79/100\n",
      "2/2 [==============================] - 0s 44ms/step - loss: 0.8525 - accuracy: 0.8529 - val_loss: 0.8272 - val_accuracy: 0.7500\n",
      "Epoch 80/100\n",
      "2/2 [==============================] - 0s 60ms/step - loss: 0.8411 - accuracy: 0.8824 - val_loss: 0.8864 - val_accuracy: 0.7500\n",
      "Epoch 81/100\n",
      "2/2 [==============================] - 0s 51ms/step - loss: 0.5893 - accuracy: 0.8824 - val_loss: 0.9508 - val_accuracy: 0.7500\n",
      "Epoch 82/100\n",
      "2/2 [==============================] - 0s 44ms/step - loss: 2.0270 - accuracy: 0.7941 - val_loss: 0.8884 - val_accuracy: 0.7500\n",
      "Epoch 83/100\n",
      "2/2 [==============================] - 0s 39ms/step - loss: 1.3812 - accuracy: 0.8529 - val_loss: 0.6990 - val_accuracy: 0.7500\n",
      "Epoch 84/100\n",
      "2/2 [==============================] - 0s 40ms/step - loss: 1.5411 - accuracy: 0.8235 - val_loss: 0.6430 - val_accuracy: 0.7500\n",
      "Epoch 85/100\n",
      "2/2 [==============================] - 0s 42ms/step - loss: 0.9792 - accuracy: 0.8824 - val_loss: 0.6112 - val_accuracy: 0.7500\n",
      "Epoch 86/100\n",
      "2/2 [==============================] - 0s 42ms/step - loss: 0.9938 - accuracy: 0.8529 - val_loss: 0.9752 - val_accuracy: 0.7500\n",
      "Epoch 87/100\n",
      "2/2 [==============================] - 0s 41ms/step - loss: 1.3607 - accuracy: 0.9118 - val_loss: 0.9669 - val_accuracy: 0.7500\n",
      "Epoch 88/100\n",
      "2/2 [==============================] - 0s 42ms/step - loss: 1.6283 - accuracy: 0.7941 - val_loss: 0.9588 - val_accuracy: 0.7500\n",
      "Epoch 89/100\n",
      "2/2 [==============================] - 0s 36ms/step - loss: 0.4554 - accuracy: 0.9412 - val_loss: 0.9534 - val_accuracy: 0.7500\n",
      "Epoch 90/100\n",
      "2/2 [==============================] - 0s 42ms/step - loss: 1.4575 - accuracy: 0.7941 - val_loss: 0.9495 - val_accuracy: 0.7500\n",
      "Epoch 91/100\n",
      "2/2 [==============================] - 0s 43ms/step - loss: 1.1230 - accuracy: 0.8235 - val_loss: 0.9463 - val_accuracy: 0.7500\n",
      "Epoch 92/100\n",
      "2/2 [==============================] - 0s 51ms/step - loss: 1.3941 - accuracy: 0.8235 - val_loss: 0.9441 - val_accuracy: 0.7500\n",
      "Epoch 93/100\n",
      "2/2 [==============================] - 0s 42ms/step - loss: 0.6721 - accuracy: 0.9412 - val_loss: 0.9445 - val_accuracy: 0.7500\n",
      "Epoch 94/100\n",
      "2/2 [==============================] - 0s 57ms/step - loss: 1.0421 - accuracy: 0.8235 - val_loss: 0.9463 - val_accuracy: 0.7500\n",
      "Epoch 95/100\n",
      "2/2 [==============================] - 0s 44ms/step - loss: 1.1432 - accuracy: 0.7353 - val_loss: 0.9448 - val_accuracy: 0.7500\n",
      "Epoch 96/100\n",
      "2/2 [==============================] - 0s 58ms/step - loss: 2.1878 - accuracy: 0.7941 - val_loss: 0.9415 - val_accuracy: 0.7500\n",
      "Epoch 97/100\n",
      "2/2 [==============================] - 0s 42ms/step - loss: 2.0905 - accuracy: 0.7059 - val_loss: 0.9403 - val_accuracy: 0.7500\n",
      "Epoch 98/100\n",
      "2/2 [==============================] - 0s 57ms/step - loss: 0.5107 - accuracy: 0.9412 - val_loss: 0.9413 - val_accuracy: 0.7500\n",
      "Epoch 99/100\n",
      "2/2 [==============================] - 0s 72ms/step - loss: 1.6778 - accuracy: 0.7353 - val_loss: 0.9430 - val_accuracy: 0.7500\n",
      "Epoch 100/100\n",
      "2/2 [==============================] - 0s 71ms/step - loss: 1.1262 - accuracy: 0.8824 - val_loss: 0.9424 - val_accuracy: 0.7500\n"
     ]
    },
    {
     "name": "stderr",
     "output_type": "stream",
     "text": [
      "c:\\Users\\sit\\AppData\\Local\\Programs\\Python\\Python311\\Lib\\site-packages\\tensorflow\\python\\keras\\engine\\sequential.py:454: UserWarning: `model.predict_classes()` is deprecated and will be removed after 2021-01-01. Please use instead:* `np.argmax(model.predict(x), axis=-1)`,   if your model does multi-class classification   (e.g. if it uses a `softmax` last-layer activation).* `(model.predict(x) > 0.5).astype(\"int32\")`,   if your model does binary classification   (e.g. if it uses a `sigmoid` last-layer activation).\n",
      "  warnings.warn('`model.predict_classes()` is deprecated and '\n",
      "c:\\Users\\sit\\AppData\\Local\\Programs\\Python\\Python311\\Lib\\site-packages\\tensorflow\\python\\keras\\engine\\sequential.py:454: UserWarning: `model.predict_classes()` is deprecated and will be removed after 2021-01-01. Please use instead:* `np.argmax(model.predict(x), axis=-1)`,   if your model does multi-class classification   (e.g. if it uses a `softmax` last-layer activation).* `(model.predict(x) > 0.5).astype(\"int32\")`,   if your model does binary classification   (e.g. if it uses a `sigmoid` last-layer activation).\n",
      "  warnings.warn('`model.predict_classes()` is deprecated and '\n",
      "c:\\Users\\sit\\AppData\\Local\\Programs\\Python\\Python311\\Lib\\site-packages\\tensorflow\\python\\keras\\engine\\sequential.py:454: UserWarning: `model.predict_classes()` is deprecated and will be removed after 2021-01-01. Please use instead:* `np.argmax(model.predict(x), axis=-1)`,   if your model does multi-class classification   (e.g. if it uses a `softmax` last-layer activation).* `(model.predict(x) > 0.5).astype(\"int32\")`,   if your model does binary classification   (e.g. if it uses a `sigmoid` last-layer activation).\n",
      "  warnings.warn('`model.predict_classes()` is deprecated and '\n",
      "c:\\Users\\sit\\AppData\\Local\\Programs\\Python\\Python311\\Lib\\site-packages\\tensorflow\\python\\keras\\engine\\sequential.py:454: UserWarning: `model.predict_classes()` is deprecated and will be removed after 2021-01-01. Please use instead:* `np.argmax(model.predict(x), axis=-1)`,   if your model does multi-class classification   (e.g. if it uses a `softmax` last-layer activation).* `(model.predict(x) > 0.5).astype(\"int32\")`,   if your model does binary classification   (e.g. if it uses a `sigmoid` last-layer activation).\n",
      "  warnings.warn('`model.predict_classes()` is deprecated and '\n"
     ]
    }
   ],
   "source": [
    "predictiveModels()"
   ]
  },
  {
   "cell_type": "code",
   "execution_count": 58,
   "metadata": {},
   "outputs": [
    {
     "data": {
      "text/html": [
       "<div>\n",
       "<style scoped>\n",
       "    .dataframe tbody tr th:only-of-type {\n",
       "        vertical-align: middle;\n",
       "    }\n",
       "\n",
       "    .dataframe tbody tr th {\n",
       "        vertical-align: top;\n",
       "    }\n",
       "\n",
       "    .dataframe thead th {\n",
       "        text-align: right;\n",
       "    }\n",
       "</style>\n",
       "<table border=\"1\" class=\"dataframe\">\n",
       "  <thead>\n",
       "    <tr style=\"text-align: right;\">\n",
       "      <th></th>\n",
       "      <th>model</th>\n",
       "      <th>f1Score</th>\n",
       "      <th>accuracy</th>\n",
       "      <th>training score</th>\n",
       "      <th>auc</th>\n",
       "      <th>time</th>\n",
       "    </tr>\n",
       "  </thead>\n",
       "  <tbody>\n",
       "    <tr>\n",
       "      <th>0</th>\n",
       "      <td>LogisticRegression</td>\n",
       "      <td>0.933333</td>\n",
       "      <td>0.916667</td>\n",
       "      <td>1.000000</td>\n",
       "      <td>0.937500</td>\n",
       "      <td>3.284130</td>\n",
       "    </tr>\n",
       "    <tr>\n",
       "      <th>1</th>\n",
       "      <td>Decison Tree</td>\n",
       "      <td>0.666667</td>\n",
       "      <td>0.666667</td>\n",
       "      <td>0.823529</td>\n",
       "      <td>0.666667</td>\n",
       "      <td>0.285344</td>\n",
       "    </tr>\n",
       "    <tr>\n",
       "      <th>2</th>\n",
       "      <td>SVM</td>\n",
       "      <td>0.933333</td>\n",
       "      <td>0.916667</td>\n",
       "      <td>1.000000</td>\n",
       "      <td>0.937500</td>\n",
       "      <td>0.083866</td>\n",
       "    </tr>\n",
       "    <tr>\n",
       "      <th>3</th>\n",
       "      <td>Random Forest</td>\n",
       "      <td>0.941176</td>\n",
       "      <td>0.916667</td>\n",
       "      <td>0.911765</td>\n",
       "      <td>0.875000</td>\n",
       "      <td>18.990247</td>\n",
       "    </tr>\n",
       "    <tr>\n",
       "      <th>4</th>\n",
       "      <td>Naive Bayes</td>\n",
       "      <td>0.941176</td>\n",
       "      <td>0.916667</td>\n",
       "      <td>0.882353</td>\n",
       "      <td>0.875000</td>\n",
       "      <td>0.000994</td>\n",
       "    </tr>\n",
       "    <tr>\n",
       "      <th>5</th>\n",
       "      <td>XGBoost</td>\n",
       "      <td>0.800000</td>\n",
       "      <td>0.750000</td>\n",
       "      <td>0.941176</td>\n",
       "      <td>0.750000</td>\n",
       "      <td>2.959307</td>\n",
       "    </tr>\n",
       "    <tr>\n",
       "      <th>6</th>\n",
       "      <td>LDA</td>\n",
       "      <td>0.857143</td>\n",
       "      <td>0.833333</td>\n",
       "      <td>1.000000</td>\n",
       "      <td>0.875000</td>\n",
       "      <td>0.143775</td>\n",
       "    </tr>\n",
       "    <tr>\n",
       "      <th>7</th>\n",
       "      <td>KNN</td>\n",
       "      <td>0.888889</td>\n",
       "      <td>0.833333</td>\n",
       "      <td>0.823529</td>\n",
       "      <td>0.750000</td>\n",
       "      <td>0.374100</td>\n",
       "    </tr>\n",
       "    <tr>\n",
       "      <th>8</th>\n",
       "      <td>AdaBoost</td>\n",
       "      <td>0.857143</td>\n",
       "      <td>0.833333</td>\n",
       "      <td>1.000000</td>\n",
       "      <td>0.875000</td>\n",
       "      <td>0.114077</td>\n",
       "    </tr>\n",
       "    <tr>\n",
       "      <th>9</th>\n",
       "      <td>Neural Netwrok</td>\n",
       "      <td>0.800000</td>\n",
       "      <td>0.750000</td>\n",
       "      <td>1.000000</td>\n",
       "      <td>0.750000</td>\n",
       "      <td>6.203656</td>\n",
       "    </tr>\n",
       "  </tbody>\n",
       "</table>\n",
       "</div>"
      ],
      "text/plain": [
       "                model   f1Score  accuracy  training score       auc       time\n",
       "0  LogisticRegression  0.933333  0.916667        1.000000  0.937500   3.284130\n",
       "1        Decison Tree  0.666667  0.666667        0.823529  0.666667   0.285344\n",
       "2                 SVM  0.933333  0.916667        1.000000  0.937500   0.083866\n",
       "3       Random Forest  0.941176  0.916667        0.911765  0.875000  18.990247\n",
       "4         Naive Bayes  0.941176  0.916667        0.882353  0.875000   0.000994\n",
       "5             XGBoost  0.800000  0.750000        0.941176  0.750000   2.959307\n",
       "6                 LDA  0.857143  0.833333        1.000000  0.875000   0.143775\n",
       "7                 KNN  0.888889  0.833333        0.823529  0.750000   0.374100\n",
       "8            AdaBoost  0.857143  0.833333        1.000000  0.875000   0.114077\n",
       "9      Neural Netwrok  0.800000  0.750000        1.000000  0.750000   6.203656"
      ]
     },
     "execution_count": 58,
     "metadata": {},
     "output_type": "execute_result"
    }
   ],
   "source": [
    "result_"
   ]
  },
  {
   "cell_type": "code",
   "execution_count": 59,
   "metadata": {},
   "outputs": [],
   "source": [
    "def plotting(dataframe_,title1,title2,supertitle):\n",
    "\n",
    "    sns.set_palette(\"Paired\") # This is for theming palette\n",
    "    plt.figure(figsize=(25,5)) # Setting up the figure size\n",
    "    x = np.arange(dataframe_.shape[0]) # For x ticks purpose \n",
    "\n",
    "\n",
    "    plt.subplot(1,2,1) # First subplot\n",
    "    plt.suptitle(supertitle,fontsize=15)\n",
    "\n",
    "    plt.bar(x,dataframe_[\"training score\"],width=0.3,label=\"train\") # Plotting the line graph for training score\n",
    "    for index,values in zip(x,dataframe_[\"training score\"]): # This is for adding text to the graph\n",
    "        plt.text(index-0.1,values/2,f\"{values:.2f}\",color=\"#576CBC\")\n",
    "\n",
    "    plt.bar(x+0.3,dataframe_[\"accuracy\"],\n",
    "            width=0.3,\n",
    "            label=\"accuracy\")\n",
    "    for index,values in zip(x,dataframe_[\"accuracy\"]):\n",
    "        plt.text(index+0.2,values/2,f\"{values:.2f}\",color=\"#FFF2CC\")\n",
    "\n",
    "    plt.xticks(x,dataframe_[\"model\"],rotation=50)\n",
    "    plt.title(title1)\n",
    "    plt.xlabel(\"Models\")\n",
    "    plt.ylabel(\"Training and Testing score\")\n",
    "    plt.legend()\n",
    "\n",
    "\n",
    "    plt.subplot(1,2,2)\n",
    "\n",
    "\n",
    "    plt.bar(x,dataframe_[\"f1Score\"],width=0.3,label=\"f1Score\")\n",
    "\n",
    "    for index,values in zip(x,dataframe_[\"f1Score\"]):\n",
    "        plt.text(index,values/2,f\"{values:.2f}\",verticalalignment=\"bottom\",horizontalalignment='center',color=\"#0B2447\",fontsize=\"small\")\n",
    "    \n",
    "    plt.bar(x+0.3,dataframe_[\"auc\"],width=0.3,label=\"auc\")\n",
    "\n",
    "    for index,values in zip(x,dataframe_[\"auc\"]):\n",
    "        plt.text(index+0.3,values/2,f\"{values:.2f}\",verticalalignment=\"bottom\",horizontalalignment='center',color=\"#0B2447\",fontsize=\"small\")\n",
    "\n",
    "    \n",
    "    plt.xticks(x,dataframe_[\"model\"],rotation=45)\n",
    "    plt.title(title2)\n",
    "    plt.xlabel(\"Models\")\n",
    "    plt.ylabel(\"Score\")\n",
    "    plt.legend()\n",
    "    plt.show()"
   ]
  },
  {
   "cell_type": "code",
   "execution_count": 60,
   "metadata": {},
   "outputs": [
    {
     "data": {
      "image/png": "[encoded data removed]",
      "text/plain": [
       "<Figure size 2500x500 with 2 Axes>"
      ]
     },
     "metadata": {},
     "output_type": "display_data"
    }
   ],
   "source": [
    "plotting(result_,title1 = \"Training and testing accuracy for models\",title2 = \"f1_score and auc for models\",supertitle=\"Model Comparison\")"
   ]
  },
  {
   "cell_type": "code",
   "execution_count": 61,
   "metadata": {},
   "outputs": [
    {
     "data": {
      "text/plain": [
       "Text(0, 0.5, 'Training time')"
      ]
     },
     "execution_count": 61,
     "metadata": {},
     "output_type": "execute_result"
    },
    {
     "data": {
      "image/png": "[encoded data removed]",
      "text/plain": [
       "<Figure size 2000x800 with 1 Axes>"
      ]
     },
     "metadata": {},
     "output_type": "display_data"
    }
   ],
   "source": [
    "# Plotting the time for every model\n",
    "plt.figure(figsize=(20,8))\n",
    "plt.plot(result_[\"model\"],result_[\"time\"],marker=\"*\",lw=1)\n",
    "for x,val in enumerate(result_[\"time\"]):\n",
    "    plt.text(x,val,f\"{val:.2f}\",verticalalignment=\"bottom\",fontsize='small',horizontalalignment=\"center\")\n",
    "plt.title(\"Model vs training time\")\n",
    "plt.xlabel(\"Models\")\n",
    "plt.ylabel(\"Training time\")"
   ]
  }
 ],
 "metadata": {
  "kernelspec": {
   "display_name": "base",
   "language": "python",
   "name": "python3"
  },
  "language_info": {
   "codemirror_mode": {
    "name": "ipython",
    "version": 3
   },
   "file_extension": ".py",
   "mimetype": "text/x-python",
   "name": "python",
   "nbconvert_exporter": "python",
   "pygments_lexer": "ipython3",
   "version": "3.11.3"
  },
  "orig_nbformat": 4
 },
 "nbformat": 4,
 "nbformat_minor": 2
}
